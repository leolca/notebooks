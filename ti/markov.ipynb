{
 "cells": [
  {
   "cell_type": "markdown",
   "metadata": {
    "kernel": "SoS"
   },
   "source": [
    "# Markov Chain"
   ]
  },
  {
   "cell_type": "markdown",
   "metadata": {
    "kernel": "Bash"
   },
   "source": [
    "First let's use Ulysses as a base corpus for our Markov Model example. \n",
    "\n",
    "Download it from Gutenberg.org."
   ]
  },
  {
   "cell_type": "code",
   "execution_count": 8,
   "metadata": {
    "kernel": "Bash"
   },
   "outputs": [],
   "source": [
    "wget -q http://www.gutenberg.org/files/4300/4300-0.txt -O /tmp/tmp\n",
    "tail -n +22 /tmp/tmp | head -n -363 > /tmp/ulysses.txt\n",
    "rm /tmp/tmp"
   ]
  },
  {
   "cell_type": "markdown",
   "metadata": {
    "kernel": "Bash"
   },
   "source": [
    "First, let's use [Markovify](https://github.com/jsvine/markovify), a simple, extensible Markov chain generator in Python.\n",
    "\n",
    "Instalation:"
   ]
  },
  {
   "cell_type": "code",
   "execution_count": 13,
   "metadata": {
    "kernel": "python2"
   },
   "outputs": [
    {
     "name": "stdout",
     "output_type": "stream",
     "text": [
      "Requirement already satisfied: markovify in /home/leoca/.local/lib/python3.7/site-packages (0.7.2)\n",
      "Requirement already satisfied: unidecode in /home/leoca/.local/lib/python3.7/site-packages (from markovify) (1.1.1)\n",
      "0 : Contemporaneously, a heated fashion offensively.\n",
      "1 : M. Drumont, famous journalist, Drumont, know what it would be, he said.\n",
      "2 : Onions of his coat a pocketbook bound by a triple change of rite and dogma like his own cheek.\n",
      "3 : See the malt stored in many a true word spoken in jest.\n",
      "4 : Do right to close and chain the door with a little moved but very handsomely told him no offence and all the occupants have been buried alive.\n",
      "-------------------\n",
      "Mother of the _corpora cavernosa_ to rapidly dilate in such cases an arrest of embryonic development at some stage antecedent to the little misadventure mentioned between the bodily organism and its phantoms, Stephen said.\n",
      "—My wife too, he added, on the proceedings, after the last man who was _enceinte_ which she stated were Greek and Irish and a millionaire, _maestro di color che sanno_.\n",
      "Working tooth and superfluous hair.\n"
     ]
    }
   ],
   "source": [
    "import sys\n",
    "!{sys.executable} -m pip install markovify\n",
    "import markovify\n",
    "\n",
    "# Get raw text as string.\n",
    "with open(\"/tmp/ulysses.txt\") as f:\n",
    "    text = f.read()\n",
    "    \n",
    "# Build the model.\n",
    "text_model = markovify.Text(text)\n",
    "\n",
    "# Save model\n",
    "model_json = text_model.to_json()\n",
    "file = open(\"markovmodel.json\",\"w\") \n",
    "file.write(model_json)\n",
    "file.close() \n",
    "\n",
    "# Load model form file\n",
    "with open(\"markovmodel.json\") as f:\n",
    "    model_json = f.read()\n",
    "text_model = markovify.Text.from_json(model_json)\n",
    "\n",
    "# Print five randomly-generated sentences\n",
    "for i in range(5):\n",
    "    print(str(i) + ' : ' + text_model.make_sentence())\n",
    "\n",
    "print(\"-------------------\")\n",
    "    \n",
    "# Print three randomly-generated sentences of no more than 280 characters\n",
    "for i in range(3):\n",
    "    print(text_model.make_short_sentence(280))"
   ]
  },
  {
   "cell_type": "code",
   "execution_count": null,
   "metadata": {
    "kernel": "Bash"
   },
   "outputs": [],
   "source": []
  },
  {
   "cell_type": "markdown",
   "metadata": {
    "kernel": "Bash"
   },
   "source": [
    "We are goind to use [Pykov](https://github.com/riccardoscalco/Pykov), which is a tiny Python module on finite regular Markov chains."
   ]
  },
  {
   "cell_type": "code",
   "execution_count": null,
   "metadata": {
    "kernel": "Bash"
   },
   "outputs": [],
   "source": [
    "pip install git+git://github.com/riccardoscalco/Pykov@master \n",
    "pip install --upgrade git+git://github.com/riccardoscalco/Pykov@master"
   ]
  },
  {
   "cell_type": "code",
   "execution_count": 13,
   "metadata": {
    "kernel": "python3"
   },
   "outputs": [
    {
     "name": "stdout",
     "output_type": "stream",
     "text": [
      "Requirement already satisfied: pykov in /home/leoca/.local/lib/python3.7/site-packages (0.1)\r\n"
     ]
    }
   ],
   "source": [
    "import sys\n",
    "!{sys.executable} -m pip install pykov\n",
    "import pykov"
   ]
  },
  {
   "cell_type": "markdown",
   "metadata": {
    "kernel": "python3"
   },
   "source": [
    "Vamos utilizar como exemplo esta cadeia de markov simples:\n",
    "![markov chain](imgs/markovchain01.png)\n",
    "\n",
    "Onde a matriz de transição é dada a seguir\n",
    "\n",
    "$$\n",
    "P = \n",
    "\\left(\\begin{array}{ccc} \n",
    "0.5 & 0.25 & 0.25\\\\\n",
    "0.25& 0.5  & 0.25\\\\\n",
    "0.25& 0.25 & 0.5\n",
    "\\end{array}\\right)\n",
    "$$ "
   ]
  },
  {
   "cell_type": "code",
   "execution_count": null,
   "metadata": {
    "kernel": "python3"
   },
   "outputs": [],
   "source": [
    "import pykov\n",
    "import math\n",
    "from numpy.linalg import matrix_rank\n",
    "import networkx as nx\n",
    "\n",
    "\n",
    "P = pykov.Matrix({('0','0'): .5, ('0','1'): .25, ('0','2'): .25,   \\\n",
    "                  ('1','0'): .25, ('1','1'): .5, ('1','2'): .25,   \\\n",
    "                  ('2','0'): .25, ('2','1'): .25, ('2','2'): .5})\n",
    "\n",
    "P.states()\n",
    "\n",
    "C = pykov.Chain(P)\n",
    "\n",
    "C.walk(10)\n",
    "# ['2', '2', '0', '0', '1', '2', '1', '1', '0', '0', '0']\n",
    "\n",
    "entropyrate = math.log(math.e,2)*C.entropy()\n",
    "print \"taxa de entropia da cadeia de markov = \" + \"%.2f\" % entropyrate + \" bits\"\n",
    "# 1.5 bits\n",
    "\n",
    "# compute entropy from probabilities\n",
    "# p: counts\n",
    "# b: base\n",
    "def entropy(p, b):\n",
    "  p = filter(lambda a: a != 0, p)\n",
    "  return sum( [ -pp*math.log(pp,b) for pp in p ] )\n",
    "\n",
    "entropy([0.5, 0.25, 0.25], 2)\n",
    "# 1.5\n",
    "G = nx.DiGraph(list(P.keys()))\n",
    "print \"a cadeia de markov é irredutível (fortemente conectada)? \" + str( nx.is_strongly_connected(G) ) # True\n",
    "print \"a cadeia de markov é aperiódica? \" +  str( nx.is_aperiodic(G) ) # True\n",
    "print \"número de distribuições estacionárias: \" + str(matrix_rank(P - P.eye())) # 1\n",
    "mu = C.steady() # 1/3, 1/3, 1/3\n",
    "entropysteady = math.log(math.e,2)*mu.entropy() # log_2 3 = 1.5849625007211563\n",
    "print \"estado estacionário: \"\n",
    "print mu \n",
    "print \"entropia do estado estacionário = \" + \"%.2f\" % entropysteady + \" bits\"\n",
    "print \"numero de estados = \" + str(len(mu))"
   ]
  },
  {
   "cell_type": "code",
   "execution_count": null,
   "metadata": {
    "kernel": "python2"
   },
   "outputs": [],
   "source": []
  }
 ],
 "metadata": {
  "kernelspec": {
   "display_name": "SoS",
   "language": "sos",
   "name": "sos"
  },
  "language_info": {
   "codemirror_mode": "sos",
   "file_extension": ".sos",
   "mimetype": "text/x-sos",
   "name": "sos",
   "nbconvert_exporter": "sos_notebook.converter.SoS_Exporter",
   "pygments_lexer": "sos"
  },
  "sos": {
   "kernels": [
    [
     "Bash",
     "bash",
     "Bash",
     "#E6EEFF",
     "shell"
    ],
    [
     "python2",
     "python2",
     "python",
     "",
     {
      "name": "ipython",
      "version": 3
     }
    ],
    [
     "python3",
     "python3",
     "python",
     "",
     {
      "name": "ipython",
      "version": 3
     }
    ]
   ],
   "panel": {
    "displayed": true,
    "height": 0
   },
   "version": "0.19.15"
  }
 },
 "nbformat": 4,
 "nbformat_minor": 2
}
