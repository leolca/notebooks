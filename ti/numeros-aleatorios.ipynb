{
 "cells": [
  {
   "cell_type": "markdown",
   "metadata": {
    "kernel": "SoS"
   },
   "source": [
    "# Números Aleatórios\n",
    "\n",
    "Dizemos que uma sequência de observações é aleatória quando ela não apresenta nenhum regularidade ou padrão aparente.\n",
    "\n",
    "\"randomness is in the eye of the beholder\" (Numerical Recipes)[http://numerical.recipes/]\n",
    "\n",
    "\"Anyone who attempts to generate random numbers by deterministic means is, of course, living in a state of sin\". (John von Neumann)\n",
    "\n",
    "\n",
    "![dilbert](imgs/dilbert-random.png)\n",
    "\n",
    "\n",
    "Existem três fontes de aleatoriedade:\n",
    "1. aleatoriedade do ambiente\n",
    "2. aleatoriedade nas condições iniciais\n",
    "3. geração intrı́nseca de aleatoriedade\n",
    "\n",
    "\"assuming that there is a random external environment which continually affects the system one is looking at, and continually injects randomness into it.\"\n",
    "(...)\n",
    "\"the basic mechanisms responsible for phenomena that we see in nature are somehow the same as those responsible for phenomena that we see in simple programs\".\n",
    "(...)\n",
    "\"simple programs can produce apparently random behavior even when they are given no random input whatsoever\".\n",
    "(Stephen Wolfram, A New Kind of Science)\n",
    "\n",
    "![wolfram 299](imgs/nkspg299.png)\n",
    "\n",
    "\n",
    "![wolfram 27](imgs/nkspg27.png)"
   ]
  },
  {
   "cell_type": "code",
   "execution_count": 6,
   "metadata": {
    "kernel": "octave"
   },
   "outputs": [
    {
     "data": {
      "image/png": "[encoded data removed]",
      "text/plain": [
       "<IPython.core.display.Image object>"
      ]
     },
     "metadata": {},
     "output_type": "display_data"
    }
   ],
   "source": [
    "function y = rule30(x)\n",
    "  y = zeros(size(x));\n",
    "  for i = 2 : length(x)-1,\n",
    "     if     x(i-1) == 1 && x(i) == 1 && x(i+1) == 1,\n",
    "        y(i) = 0;\n",
    "     elseif x(i-1) == 1 && x(i) == 1 && x(i+1) == 0,\n",
    "        y(i) = 0;\n",
    "     elseif x(i-1) == 1 && x(i) == 0 && x(i+1) == 1,\n",
    "        y(i) = 0;\n",
    "     elseif x(i-1) == 1 && x(i) == 0 && x(i+1) == 0,\n",
    "        y(i) = 1;\n",
    "     elseif x(i-1) == 0 && x(i) == 1 && x(i+1) == 1,\n",
    "        y(i) = 1;\n",
    "     elseif x(i-1) == 0 && x(i) == 1 && x(i+1) == 0,\n",
    "        y(i) = 1;\n",
    "     elseif x(i-1) == 0 && x(i) == 0 && x(i+1) == 1,\n",
    "        y(i) = 1;\n",
    "     elseif x(i-1) == 0 && x(i) == 0 && x(i+1) == 0,\n",
    "        y(i) = 0;\n",
    "     endif\n",
    "  endfor\n",
    "endfunction\n",
    "\n",
    "\n",
    "x = [zeros(1,50), 1, zeros(1,50)];\n",
    "X = x;\n",
    "for i = 2 : 50,\n",
    "   X(i,:) = rule30(X(i-1,:));\n",
    "endfor\n",
    "\n",
    "imagesc(X); cmap=colormap('gray'); colormap(1-cmap);"
   ]
  },
  {
   "cell_type": "markdown",
   "metadata": {
    "kernel": "octave"
   },
   "source": [
    "\"I believe that this mechanism [intrinsic randomness] is in fact ultimately responsible for a large fraction, if not essentially all, of the randomness that we see in the natural world. (...) to get randomness in a particular system it turns out that there is no need for continual interaction between the system and an external random environment\". (Stephen Wolfram, A New Kind of Science)\n",
    "\n",
    "\n",
    "### Números aleatórios gerados computacionalmente\n",
    "\n",
    "O seguinte método é utilizado desde o final dos anos 1940 em diversos sistemas computacionais:\n",
    "\n",
    "\"if one successively multiplies a number by various constant factors, and then looks at the digit sequences of the numbers that result (...) the patterns of digits obtained in this way seem quite random. (...) For practical reasons, such generators typically keep only, say, the rightmost 31 digits in the numbers at each step.\" (Stephen Wolfram, A New Kind of Science)\n",
    "\n",
    "\n",
    "![](imgs/nkspg319.png)\n",
    "![](imgs/nkspg320a.png)\n",
    "![](imgs/nkspg320b.png)\n",
    "![](imgs/nkspg320c.png)"
   ]
  },
  {
   "cell_type": "code",
   "execution_count": 48,
   "metadata": {
    "kernel": "octave"
   },
   "outputs": [
    {
     "data": {
      "image/png": "[encoded data removed]",
      "text/plain": [
       "<IPython.core.display.Image object>"
      ]
     },
     "metadata": {},
     "output_type": "display_data"
    }
   ],
   "source": [
    "function r = randomnumber(n,p)\n",
    "% r = randomnumber(n,p)\n",
    "% creates a vector of n random numbers using p as multiplying factor (default = 65539)\n",
    "  if nargin < 2, p = 65539; endif\n",
    "  r = 1;\n",
    "  for i = 2 : n,\n",
    "    r(i) = mod(p * r(i-1),2^32);\n",
    "  endfor\n",
    "endfunction\n",
    "\n",
    "function I = rndnum2matrix(r)\n",
    "  for i = 1 : length(r),\n",
    "     nb = dec2bin(r(i),32);\n",
    "     I(i,:) = str2num(regexprep(nb(end-31:end),'(.)',' $0'));\n",
    "  endfor\n",
    "endfunction\n",
    "\n",
    "p = 3;\n",
    "r = randomnumber(128,p);\n",
    "I = rndnum2matrix(r);\n",
    "\n",
    "f = figure(\"position\",get(0,\"screensize\")./[1 1 2 3]);\n",
    "subplot('position',  [0.05, 0.05, 0.1, 1]);\n",
    "imagesc(I); colormap(1 - colormap('gray')); axis (\"ticy\");\n",
    "subplot('position',  [0.25, 0.25, 0.4, 0.6]);\n",
    "plot(r);\n",
    "annotation('textbox',[0.4 0.05 0.1 0.1],'string',sprintf(' multiplier %d',p));\n",
    "subplot('position',  [0.7, 0.25, 0.4, 0.4]);\n",
    "plot(r(1:2:end),r(2:2:end),'kx'); axis (\"off\",\"square\"); title('r(i) x r(i+1)');"
   ]
  },
  {
   "cell_type": "code",
   "execution_count": 47,
   "metadata": {
    "kernel": "octave"
   },
   "outputs": [
    {
     "data": {
      "image/png": "[encoded data removed]",
      "text/plain": [
       "<IPython.core.display.Image object>"
      ]
     },
     "metadata": {},
     "output_type": "display_data"
    }
   ],
   "source": [
    "p = 37;\n",
    "r = randomnumber(128,p);\n",
    "I = rndnum2matrix(r);\n",
    "\n",
    "f = figure(\"position\",get(0,\"screensize\")./[1 1 2 3]);\n",
    "subplot('position',  [0.05, 0.05, 0.1, 1]);\n",
    "imagesc(I); colormap(1 - colormap('gray')); axis (\"ticy\");\n",
    "subplot('position',  [0.25, 0.25, 0.4, 0.6]);\n",
    "plot(r);\n",
    "annotation('textbox',[0.4 0.05 0.1 0.1],'string',sprintf(' multiplier %d',p));\n",
    "subplot('position',  [0.7, 0.25, 0.4, 0.4]);\n",
    "plot(r(1:2:end),r(2:2:end),'kx'); axis (\"off\",\"square\"); title('r(i) x r(i+1)');"
   ]
  },
  {
   "cell_type": "markdown",
   "metadata": {
    "kernel": "octave"
   },
   "source": [
    "## Gerador de número aleatório Lehmer\n",
    "\n",
    "$X_{k+1} = g \\cdot X_k \\mod n$\n",
    "\n",
    "onde $n$ é um número primo ou uma potência de um número primo, o multiplicador $g$ é uma raiz primitiva módulo $n$ e a semente $X_0$ é co-primo com $n$.\n",
    "\n",
    "https://en.wikipedia.org/wiki/Lehmer_random_number_generator"
   ]
  },
  {
   "cell_type": "markdown",
   "metadata": {
    "kernel": "octave"
   },
   "source": [
    "## Mersenne Twister\n",
    "\n",
    "A função rand do Octave rand utiliza o *Mersenne Twister* com um período de $2^{19937}-1$. Ela não deve ser utilizada para criptografica sem realizar o hash seguro de diversos valores juntos, caso contrário o estado do gerador pode ser determinado após 624 valores consecutivos.\n",
    "\n",
    "O gerador de número aleatório usando o método *Mersenne Twister* irá utilizar um primo de Mersenne (um número primo que é um a menos que uma potência de dois: $2^p-1$, onde $p$ é um primo). No artigo original, Lehmer sugeriu a forma algébrica de f(.) e também sugeriu que o primo de Mersenne $m = 2^{31} - 1$ seria uma escolha apropriada para o módulo (sua sugestão foi ignorada para obter um cálculo computacional mais rápido, sendo utilizado $m = 2^b$, onde $b$ é o inteiro com tamanho de palavra no computador).\n",
    "\n",
    "Escolhendo os parâmetros $a = 16807$ e $m = 2^{31} - 1$ define-se um gerador com período completo que é demonstradamente aleatório e pode ser implementado corretamente em quase qualquer sistema."
   ]
  },
  {
   "cell_type": "code",
   "execution_count": 51,
   "metadata": {
    "kernel": "octave"
   },
   "outputs": [
    {
     "data": {
      "image/png": "[encoded data removed]",
      "text/plain": [
       "<IPython.core.display.Image object>"
      ]
     },
     "metadata": {},
     "output_type": "display_data"
    }
   ],
   "source": [
    "function r = rndmt(n,a,m)\n",
    "% r = rndmt(n,a,m)\n",
    "% Mersenne Twister random number generator\n",
    "\n",
    "  if nargin < 3, m = 2^31 - 1; endif\n",
    "  if nargin < 2, a = 16807; endif\n",
    "  \n",
    "  r = uint64(1);\n",
    "  for i=2:n,\n",
    "    r(i) = mod(a * r(i-1), m);\n",
    "  endfor\n",
    "endfunction\n",
    "\n",
    "\n",
    "r = rndmt(1E3);\n",
    "figure(\"position\",get(0,\"screensize\")./[1 1 2 3]) \n",
    "subplot('position',  [0.05, 0.05, 0.4, 0.9]);\n",
    "plot(r,'k-');\n",
    "subplot('position',  [0.55, 0.05, 0.4, 0.9]); \n",
    "plot(r(1:end-1),r(2:end),'.k');"
   ]
  },
  {
   "cell_type": "markdown",
   "metadata": {
    "kernel": "octave"
   },
   "source": [
    "## Números aleatórios em Linux\n",
    "\n",
    "No Linux existem a variável RANDOM que pode ser utilizada para gerar números aleatórios entre 0 e 32.767 (15 bits)."
   ]
  },
  {
   "cell_type": "code",
   "execution_count": 52,
   "metadata": {
    "kernel": "Bash"
   },
   "outputs": [
    {
     "name": "stdout",
     "output_type": "stream",
     "text": [
      "23519\n"
     ]
    }
   ],
   "source": [
    "echo $RANDOM"
   ]
  },
  {
   "cell_type": "markdown",
   "metadata": {
    "kernel": "Bash"
   },
   "source": [
    "A semente é inicializada no boot. Mas pode ser inicializada manualmente. Abaixo vemos um exemplo de como inicializá-la utilizando o ID do processo corrente."
   ]
  },
  {
   "cell_type": "code",
   "execution_count": 54,
   "metadata": {
    "kernel": "Bash"
   },
   "outputs": [
    {
     "name": "stdout",
     "output_type": "stream",
     "text": [
      "30418\n",
      "23672\n",
      "1830\n",
      "22145\n",
      "12552\n"
     ]
    }
   ],
   "source": [
    "RANDOM=$$ ; for i in {1..5}; do echo $RANDOM; done"
   ]
  },
  {
   "cell_type": "markdown",
   "metadata": {
    "kernel": "Bash"
   },
   "source": [
    "Podemos também inicializá-la com o número de segundos desde o início da Era Unix (1 de janeiro de 1970)."
   ]
  },
  {
   "cell_type": "code",
   "execution_count": 55,
   "metadata": {
    "kernel": "Bash"
   },
   "outputs": [
    {
     "name": "stdout",
     "output_type": "stream",
     "text": [
      "19197\n",
      "23408\n",
      "19146\n",
      "20534\n",
      "3166\n"
     ]
    }
   ],
   "source": [
    "RANDOM=`date +%s`; for i in {1..5}; do echo $RANDOM; done"
   ]
  },
  {
   "cell_type": "markdown",
   "metadata": {
    "kernel": "Bash"
   },
   "source": [
    "O Linux possui duas fontes de números aleatórios mais confiáveis:\n",
    "\n",
    "* /dev/urandom  (unlimited)\n",
    "* /dev/random\n",
    "\n",
    "Eles utilizam ruído ambiente coletado de dispositivos e outros recursos do sistema que são armazenados em um \"piscina de entropia\"."
   ]
  },
  {
   "cell_type": "code",
   "execution_count": 56,
   "metadata": {
    "kernel": "Bash"
   },
   "outputs": [
    {
     "name": "stdout",
     "output_type": "stream",
     "text": [
      "  File: /dev/urandom\n",
      "  Size: 0         \tBlocks: 0          IO Block: 4096   character special file\n",
      "Device: 6h/6d\tInode: 11          Links: 1     Device type: 1,9\n",
      "Access: (0666/crw-rw-rw-)  Uid: (    0/    root)   Gid: (    0/    root)\n",
      "Access: 2019-08-18 18:29:43.719999643 -0300\n",
      "Modify: 2019-08-18 18:29:43.719999643 -0300\n",
      "Change: 2019-08-18 18:29:43.719999643 -0300\n",
      " Birth: -\n"
     ]
    }
   ],
   "source": [
    "stat /dev/urandom"
   ]
  },
  {
   "cell_type": "markdown",
   "metadata": {
    "kernel": "Bash"
   },
   "source": [
    "Podemos verificar quanta entropia temos disponível na \"piscina\". O número abaixo representa quantos bits de entropia foram coletados."
   ]
  },
  {
   "cell_type": "code",
   "execution_count": 57,
   "metadata": {
    "kernel": "Bash"
   },
   "outputs": [
    {
     "name": "stdout",
     "output_type": "stream",
     "text": [
      "3840\n"
     ]
    }
   ],
   "source": [
    "cat /proc/sys/kernel/random/entropy_avail"
   ]
  },
  {
   "cell_type": "markdown",
   "metadata": {
    "kernel": "Bash"
   },
   "source": [
    "Podemos utilziar umas dessas duas fontes para gerar, por exemplo, um arquivo de 1 M aleatório."
   ]
  },
  {
   "cell_type": "code",
   "execution_count": 58,
   "metadata": {
    "kernel": "Bash"
   },
   "outputs": [],
   "source": [
    "head -c 1M < /dev/urandom > /tmp/randomfile"
   ]
  },
  {
   "cell_type": "markdown",
   "metadata": {
    "kernel": "Bash"
   },
   "source": [
    "Podemos também utilizá-los para gerar números aleatórios."
   ]
  },
  {
   "cell_type": "code",
   "execution_count": 59,
   "metadata": {
    "kernel": "Bash"
   },
   "outputs": [
    {
     "name": "stdout",
     "output_type": "stream",
     "text": [
      " 2918179816\n"
     ]
    }
   ],
   "source": [
    "od -vAn -N4 -tu < /dev/urandom\n",
    "    # -tu : -t, --format=TYPE\n",
    "    #        u unsigned decimal, SIZE bytes per integer\n",
    "    # -N, --read-bytes=BYTES\n",
    "    #     -N4 reads 4 bytes"
   ]
  },
  {
   "cell_type": "markdown",
   "metadata": {
    "kernel": "Bash"
   },
   "source": [
    "Podemos gerar uma sequência interminável de números aleatórios. No exemplo abaixo utilizamos o *head* para liminar a exibição."
   ]
  },
  {
   "cell_type": "code",
   "execution_count": null,
   "metadata": {
    "kernel": "Bash"
   },
   "outputs": [
    {
     "name": "stdout",
     "output_type": "stream",
     "text": [
      "1561942558\n",
      "1503495937\n",
      "2993509805\n",
      "4105025862\n",
      "3586605765\n",
      "842261642\n",
      "2263610278\n",
      "2975888784\n",
      "3440088632\n",
      "4238618744\n",
      "4041564822\n",
      "4047453779\n",
      "3577907992\n",
      "846649523\n",
      "1899341083\n",
      "1176975026\n",
      "1226037125\n",
      "1523526477\n",
      "12339388\n",
      "807667086\n",
      "4185036332\n",
      "2593577837\n",
      "1905655525\n",
      "2520875612\n",
      "23422755\n",
      "1835415378\n",
      "500312904\n",
      "3682308049\n",
      "4106997934\n",
      "1942328865\n",
      "3412356797\n",
      "50109931\n",
      "2374618575\n",
      "3333325405\n",
      "1935050945\n",
      "3172827300\n",
      "1630466194\n",
      "2107911798\n",
      "417177524\n",
      "3143339526\n"
     ]
    }
   ],
   "source": [
    "od -vAn -tu < /dev/urandom | head | tr ' ' '\\n' | sed '/^$/d'"
   ]
  },
  {
   "cell_type": "markdown",
   "metadata": {
    "kernel": "Bash"
   },
   "source": [
    "Quando vamos gerando número aleatório, vamos esvaziando a piscina de entropia. Eventualmente, em algum momento não será mais possível gerar números aleatórios utilizando o */dev/random* sem gerar mais entropia para encher a piscina."
   ]
  },
  {
   "cell_type": "markdown",
   "metadata": {
    "kernel": "Bash"
   },
   "source": [
    "Para gerar um número de 10 dígitos aleatórios, podemos fazer o seguinte:"
   ]
  },
  {
   "cell_type": "code",
   "execution_count": 6,
   "metadata": {
    "kernel": "Bash"
   },
   "outputs": [
    {
     "name": "stdout",
     "output_type": "stream",
     "text": [
      "1888988024\n"
     ]
    },
    {
     "name": "stderr",
     "output_type": "stream",
     "text": [
      "Keyboard Interrupt\n"
     ]
    }
   ],
   "source": [
    "cat /dev/urandom | tr -dc '0-9' | fold -w 10 | head -n 1"
   ]
  },
  {
   "cell_type": "markdown",
   "metadata": {
    "kernel": "Bash"
   },
   "source": [
    "E para gerar um string aleatória podemos fazer:"
   ]
  },
  {
   "cell_type": "code",
   "execution_count": null,
   "metadata": {
    "kernel": "Bash"
   },
   "outputs": [
    {
     "name": "stdout",
     "output_type": "stream",
     "text": [
      "4wsipcGuwbZhtvLPfDXDM6qRrULix0gD\n"
     ]
    }
   ],
   "source": [
    "cat /dev/urandom | tr -dc 'a-zA-Z0-9' | fold -w ${1:-32} | head -n 1"
   ]
  }
 ],
 "metadata": {
  "kernelspec": {
   "display_name": "SoS",
   "language": "sos",
   "name": "sos"
  },
  "language_info": {
   "codemirror_mode": "sos",
   "file_extension": ".sos",
   "mimetype": "text/x-sos",
   "name": "sos",
   "nbconvert_exporter": "sos_notebook.converter.SoS_Exporter",
   "pygments_lexer": "sos"
  },
  "sos": {
   "kernels": [
    [
     "Bash",
     "bash",
     "Bash",
     "#E6EEFF",
     "shell"
    ],
    [
     "octave",
     "octave",
     "octave",
     "",
     ""
    ]
   ],
   "panel": {
    "displayed": true,
    "height": 0
   },
   "version": "0.19.15"
  }
 },
 "nbformat": 4,
 "nbformat_minor": 2
}
