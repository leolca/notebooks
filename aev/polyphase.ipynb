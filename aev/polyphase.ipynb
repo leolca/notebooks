{
 "cells": [
  {
   "cell_type": "markdown",
   "metadata": {},
   "source": [
    "# Decomposição Polifásica"
   ]
  },
  {
   "cell_type": "markdown",
   "metadata": {},
   "source": [
    "Considere o filtro FIR $H(z) = 1 + 2 z^{-1} + 3 z^{-2} + 4 z^{-3}$. Podemos reescrevê-lo como $H(z) = (1+3z^{-2}) + z^{-1}(2+4z^{-2})$, realizando assim a separação em 2 fases.\n",
    "\n",
    "De forma geral, para um filtro FIR $H(z) = \\sum_{n=-\\infty}^{\\infty} h[n] z^{-n}$ podemos separar e agrupar os coeficientes pares e ímpares (para realizar a separação em duas fases):\n",
    "\n",
    "$H(z) = \\sum_{n=-\\infty}^{\\infty} h[2n] z^{-2n} + z^{-1}\\sum_{n=-\\infty}^{\\infty} h[2n+1] z^{-2n} = E_0(z^2) + z^{-1} E_1(z^2)$, onde definimos\n",
    "\n",
    "$E_0(z) = \\sum_{n=-\\infty}^{\\infty} h[2n] z^{-n}$\n",
    "\n",
    "\n",
    "$E_1(z) = \\sum_{n=-\\infty}^{\\infty} h[2n+1] z^{-n}$\n",
    "\n",
    "Para o exemplo $H(z) = 1 + 2 z^{-1} + 3 z^{-2} + 4 z^{-3}$ temos:\n",
    "\n",
    "$H(z) = (1+3z^{-2}) + z^{-1}(2+4z^{-2})$\n",
    "\n",
    "$E_0(z) = 1 + 3z^{-1}$\n",
    "\n",
    "$E_1(z) = 2 + 4z^{-1}$"
   ]
  },
  {
   "cell_type": "markdown",
   "metadata": {},
   "source": [
    "Vamos fazer abaixo alguns exemplos no GNU Octave.\n",
    "\n",
    "Iremos utilizar algumsa funções do pacote *signal*. Logo, devemos inicialmente carregar o pacote."
   ]
  },
  {
   "cell_type": "code",
   "execution_count": 1,
   "metadata": {},
   "outputs": [],
   "source": [
    "pkg load signal"
   ]
  },
  {
   "cell_type": "markdown",
   "metadata": {},
   "source": [
    "Vamos criar um exemplo simples. Temos um sequência $x[n]$ e um filtro FIR com resposta ao impulso $h[n]$, conforme abaixo:"
   ]
  },
  {
   "cell_type": "code",
   "execution_count": 2,
   "metadata": {},
   "outputs": [],
   "source": [
    "x = [1 2 3 4 5 6 7 8 9 10];\n",
    "h = [0.5 0.25 0.75 -0.25];"
   ]
  },
  {
   "cell_type": "markdown",
   "metadata": {},
   "source": [
    "A saída $y[n]$ é dada pela convolução: $y[n] = x[n] \\circledast h[n] $\n",
    "\n",
    "![](imgs/sistema.png)"
   ]
  },
  {
   "cell_type": "code",
   "execution_count": 3,
   "metadata": {},
   "outputs": [],
   "source": [
    "lx = length(x);\n",
    "ya = cconv(x,h,lx);"
   ]
  },
  {
   "cell_type": "markdown",
   "metadata": {},
   "source": [
    "Se após o filtro $h$ temos um downsample por um fator $M$, observe que $M-1$ a cada $M$ amostras serão descartadas.\n",
    "\n",
    "![](imgs/sistema_downsample.png)\n",
    "\n",
    "Para $M=2$ teremos:"
   ]
  },
  {
   "cell_type": "code",
   "execution_count": 4,
   "metadata": {},
   "outputs": [
    {
     "name": "stdout",
     "output_type": "stream",
     "text": [
      "y =\n",
      "\n",
      "    7.75000    0.25000    5.25000    7.75000   10.25000\n",
      "\n"
     ]
    }
   ],
   "source": [
    "y = downsample(ya,2)"
   ]
  },
  {
   "cell_type": "markdown",
   "metadata": {},
   "source": [
    "Utilizando a identidade do downsample, podemos implementar um filtro seguido de downsample utilizando a forma polifásica:\n",
    "\n",
    "![](imgs/polifasico.png)\n",
    "Fonte: (Oppenheim 2009)\n",
    "\n",
    "Vamos agora implementar a decomposição polifásica com $M=2$."
   ]
  },
  {
   "cell_type": "code",
   "execution_count": 5,
   "metadata": {},
   "outputs": [
    {
     "name": "stdout",
     "output_type": "stream",
     "text": [
      "ans =\n",
      "\n",
      "    7.75000    0.25000    5.25000    7.75000   10.25000\n",
      "\n"
     ]
    }
   ],
   "source": [
    "% separação as fases de x[n]\n",
    "x0 = downsample(x,2);\n",
    "x1 = downsample(shift(x,-1),2);\n",
    "\n",
    "% separação das fases de h[n]\n",
    "h0 = downsample(h,2);\n",
    "h1 = downsample(shift(h,-1),2);\n",
    "\n",
    "% convolução em cada uma das fases\n",
    "y0 = cconv(x0,h0,lx/2);\n",
    "y1 = cconv(x1,h1,lx/2);\n",
    "\n",
    "% soma das componentes de fase resultante\n",
    "y0 + shift(y1,1)"
   ]
  },
  {
   "cell_type": "markdown",
   "metadata": {},
   "source": [
    "Observe que obtivemos acima o mesmo resultado obtido anteriormente."
   ]
  },
  {
   "cell_type": "code",
   "execution_count": 6,
   "metadata": {},
   "outputs": [
    {
     "data": {
      "image/png": "[encoded data removed]",
      "text/plain": [
       "<IPython.core.display.Image object>"
      ]
     },
     "metadata": {},
     "output_type": "display_data"
    }
   ],
   "source": [
    "n_samples = 32;\n",
    "n = [0:n_samples-1];\n",
    "w1 = pi/4; w2 = 3*pi/4;\n",
    "x = sin(n*w1) + 0.5*sin(n*w2);\n",
    "figure(1, 'position',[0,0,600,200]);\n",
    "stem(n,x); xlabel('n'); ylabel('x[n]'); ylim([-1.1, 1.1]); xlim([0, n(end)+1]);"
   ]
  },
  {
   "cell_type": "code",
   "execution_count": 7,
   "metadata": {},
   "outputs": [
    {
     "data": {
      "image/png": "[encoded data removed]",
      "text/plain": [
       "<IPython.core.display.Image object>"
      ]
     },
     "metadata": {},
     "output_type": "display_data"
    }
   ],
   "source": [
    "X = fft(x);\n",
    "figure(2, 'position',[0,0,600,200]);\n",
    "w = linspace(0,2*pi,length(n)+1); w = w(1:end-1);\n",
    "plot(w,abs(X)); xlim([0 2*pi]); xlabel('\\omega'); ylabel('X(j\\omega)');\n",
    "set(gca,'xtick',[0 pi/4 pi/2 3*pi/4 pi 5*pi/4 3*pi/2 7*pi/4 2*pi]); \n",
    "set(gca,'xticklabel',{'0', '\\pi/4', '\\pi/2', '3\\pi/4', '\\pi', '5\\pi/4', '3\\pi/2', '7\\pi/4', '2\\pi'});"
   ]
  },
  {
   "cell_type": "code",
   "execution_count": 8,
   "metadata": {},
   "outputs": [
    {
     "data": {
      "image/png": "[encoded data removed]",
      "text/plain": [
       "<IPython.core.display.Image object>"
      ]
     },
     "metadata": {},
     "output_type": "display_data"
    }
   ],
   "source": [
    "# FIR \n",
    "# exemplo Butterworth\n",
    "p = 4; wc = 0.5;\n",
    "[b,a] = butter(p,wc);  % filtro butterworth de ordem e frequencia de corte wc*pi\n",
    "\n",
    "ya = filter(b,a,x);\n",
    "Ya = fft(ya);\n",
    "figure(3, 'position',[0,0,600,200]);\n",
    "plot(w,abs(Ya)); xlim([0 2*pi]); xlabel('\\omega'); ylabel('Y_a(j\\omega)');\n",
    "set(gca,'xtick',[0 pi/4 pi/2 3*pi/4 pi 5*pi/4 3*pi/2 7*pi/4 2*pi]); \n",
    "set(gca,'xticklabel',{'0', '\\pi/4', '\\pi/2', '3\\pi/4', '\\pi', '5\\pi/4', '3\\pi/2', '7\\pi/4', '2\\pi'});"
   ]
  },
  {
   "cell_type": "code",
   "execution_count": 9,
   "metadata": {},
   "outputs": [
    {
     "data": {
      "image/png": "[encoded data removed]",
      "text/plain": [
       "<IPython.core.display.Image object>"
      ]
     },
     "metadata": {},
     "output_type": "display_data"
    }
   ],
   "source": [
    "y = downsample(ya,2);\n",
    "Y = fft(y);\n",
    "figure(4, 'position',[0,0,600,200]);\n",
    "w = linspace(0,2*pi,length(n)/2+1); w = w(1:end-1);\n",
    "plot(w,abs(Y)); xlim([0 2*pi]); xlabel('\\omega'); ylabel('Y(j\\omega)');\n",
    "set(gca,'xtick',[0 pi/4 pi/2 3*pi/4 pi 5*pi/4 3*pi/2 7*pi/4 2*pi]); \n",
    "set(gca,'xticklabel',{'0', '\\pi/4', '\\pi/2', '3\\pi/4', '\\pi', '5\\pi/4', '3\\pi/2', '7\\pi/4', '2\\pi'});"
   ]
  },
  {
   "cell_type": "code",
   "execution_count": 10,
   "metadata": {},
   "outputs": [
    {
     "data": {
      "image/png": "[encoded data removed]",
      "text/plain": [
       "<IPython.core.display.Image object>"
      ]
     },
     "metadata": {},
     "output_type": "display_data"
    }
   ],
   "source": [
    "# polyphase (2 fases)\n",
    "b0 = downsample(b,2);\n",
    "b1 = downsample(shift(b,-1),2);\n",
    "a0 = a1 = [1, zeros(1, length(b0)-1)];\n",
    "\n",
    "x0 = downsample(x,2);\n",
    "x1 = downsample(shift(x,-1),2);\n",
    "\n",
    "y0 = filter(b0,a0,x0);\n",
    "y1 = filter(b1,a1,x1);\n",
    "\n",
    "yp = y0 + shift(y1,1);\n",
    "Yp = fft(yp);\n",
    "figure(5, 'position',[0,0,600,200]);\n",
    "plot(w,abs(Y)); xlim([0 2*pi]); xlabel('\\omega'); ylabel('Y_p(j\\omega)');\n",
    "set(gca,'xtick',[0 pi/4 pi/2 3*pi/4 pi 5*pi/4 3*pi/2 7*pi/4 2*pi]); \n",
    "set(gca,'xticklabel',{'0', '\\pi/4', '\\pi/2', '3\\pi/4', '\\pi', '5\\pi/4', '3\\pi/2', '7\\pi/4', '2\\pi'});"
   ]
  },
  {
   "cell_type": "code",
   "execution_count": 11,
   "metadata": {
    "scrolled": false
   },
   "outputs": [
    {
     "data": {
      "image/png": "[encoded data removed]",
      "text/plain": [
       "<IPython.core.display.Image object>"
      ]
     },
     "metadata": {},
     "output_type": "display_data"
    }
   ],
   "source": [
    "nd = [0:n_samples/2-1];\n",
    "figure(6, 'position',[0,0,600,400]);\n",
    "subplot(2,1,1); stem(nd,y); xlabel('n'); ylabel('y[n]'); ylim([-1.1, 1.1]); xlim([0, nd(end)+1]);\n",
    "subplot(2,1,2); stem(nd,yp); xlabel('n'); ylabel('y_p[n]'); ylim([-1.1, 1.1]); xlim([0, nd(end)+1]);"
   ]
  },
  {
   "cell_type": "markdown",
   "metadata": {},
   "source": [
    "  Os filtros $E_k(z)$ possuem comprimento $N/M$ e estão a uma taxa $1/M$ em relação ao original.\n",
    "  Consequentemente, cada filtro fará $\\frac{1}{M}\\left(\\frac{N}{M}\\right)$ multiplicações \n",
    "  e $\\frac{1}{M}\\left(\\frac{N}{M}-1\\right)$ adições por unidade de tempo. Como são $M$ componentes \n",
    "  polifásicas o sistema requererá $N/M$ multiplicações e $\\left(\\frac{N}{M}-1\\right)+(M-1)$ adições\n",
    "  por unidade de tempo."
   ]
  }
 ],
 "metadata": {
  "kernelspec": {
   "display_name": "Octave",
   "language": "octave",
   "name": "octave"
  },
  "language_info": {
   "file_extension": ".m",
   "help_links": [
    {
     "text": "GNU Octave",
     "url": "https://www.gnu.org/software/octave/support.html"
    },
    {
     "text": "Octave Kernel",
     "url": "https://github.com/Calysto/octave_kernel"
    },
    {
     "text": "MetaKernel Magics",
     "url": "https://github.com/calysto/metakernel/blob/master/metakernel/magics/README.md"
    }
   ],
   "mimetype": "text/x-octave",
   "name": "octave",
   "version": "5.2.0"
  }
 },
 "nbformat": 4,
 "nbformat_minor": 4
}
