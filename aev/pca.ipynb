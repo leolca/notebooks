{
 "cells": [
  {
   "cell_type": "markdown",
   "metadata": {},
   "source": [
    "# PCA\n",
    "\n",
    "A teoria da análise em componentes principais está didáticamente explicada no artigo de Shlens (2014). \n",
    "\n",
    "Leitura recomendada:\n",
    "\n",
    "Jonathon Shlens - A Tutorial on Principal Component Analysis, 2014\n",
    "\n",
    "[arXiv:1404.1100v1](https://arxiv.org/abs/1404.1100v1)\n",
    "\n",
    "\n",
    "Iremos primeiramente criar um exemplo para aplicar a PCA e depois aplicaremos a um exemplo com dados reais.\n",
    "\n",
    "Criamo abaixo com núvemo com $N$ pontos gerados aleatóriamente com maior dispersão ao longo da diagonal."
   ]
  },
  {
   "cell_type": "code",
   "execution_count": 1,
   "metadata": {},
   "outputs": [
    {
     "data": {
      "image/png": "[encoded data removed]",
      "text/plain": [
       "<IPython.core.display.Image object>"
      ]
     },
     "metadata": {},
     "output_type": "display_data"
    }
   ],
   "source": [
    "N = 100;\n",
    "r(1,:) = 2 + 10*randn(1,N);\n",
    "r(2,:) = 2 + 2*randn(1,N);\n",
    "R = [cos(pi/4) -sin(pi/4); sin(pi/4) cos(pi/4)];\n",
    "X = R*r;\n",
    "plot(X(1,:),X(2,:),'ko'); xlabel ('x'); ylabel ('y');"
   ]
  },
  {
   "cell_type": "markdown",
   "metadata": {},
   "source": [
    "Neste exemplo simples com apenas 2 dimensões, podemos visualmente identificar quais são as componentes principais (PCs) e qual é a ordem de importância delas. Em exemplos multidimensionais não é possível fazer tal análise visual. \n",
    "\n",
    "Para calcular as componentes principais iremos utilizar o código de Shlens (2014). O código a seguir está disponível no artigo e, a ele, foi acrescentada a normalização de variância (em stuações em que as diferentes dimensões dos dados expressam valores com ordem de grandeza diferentes, é necessário realizar a normalização do dados, para que não ocorra a dominância de uma dimensão sobre as demais)."
   ]
  },
  {
   "cell_type": "code",
   "execution_count": 2,
   "metadata": {},
   "outputs": [],
   "source": [
    "function [signals,PC,V,mn,sm] = pca1(data)\n",
    "% PCA1: Perform PCA using covariance.\n",
    "%    data - MxN matrix of input data\n",
    "%           (M dimensions, N trials)\n",
    "% signals - MxN matrix of projected data\n",
    "%      PC - each column is a PC\n",
    "%       V - Mx1 matrix of variances\n",
    "%      mn - mean for each dimension\n",
    "%      sm - std for each dimension\n",
    "  [M,N] = size(data);\n",
    "  % subtract off the mean for each dimension\n",
    "  mn = mean(data,2);\n",
    "  data = data - mn;\n",
    "  % variance normalization\n",
    "  sm = std(data,[],2);\n",
    "  data = data ./ sm;\n",
    "  % calculate the covariance matrix\n",
    "  covariance = 1 / (N-1) * data * data';\n",
    "  % find the eigenvectors and eigenvalues\n",
    "  [PC, V] = eig(covariance);\n",
    "  % extract diagonal of matrix as vector\n",
    "  V = diag(V);\n",
    "  % sort the variances in decreasing order\n",
    "  [junk, rindices] = sort(-1*V);\n",
    "  V = V(rindices);                     \n",
    "  PC = PC(:,rindices);\n",
    "  % project the original data set\n",
    "  signals = PC'*data;\n",
    "endfunction"
   ]
  },
  {
   "cell_type": "markdown",
   "metadata": {},
   "source": [
    "Abaixo utilizamos a função ```pca1```. Ela retorna os dados projetados nas componentes principais (```signals```), as componentes principais (```PC```), a variância associada a cada componente princial (```V```), a média (```mu```) e o desvio padrão (```sm```) de cada dimensão dos dados."
   ]
  },
  {
   "cell_type": "code",
   "execution_count": 3,
   "metadata": {},
   "outputs": [
    {
     "name": "stdout",
     "output_type": "stream",
     "text": [
      "O produto escalar entre PC1 e PC2 é igual a 0.0, e portanto são ortogonais.\n",
      "A variância associada à primeira componente princial é 0.95\n"
     ]
    },
    {
     "data": {
      "image/png": "[encoded data removed]",
      "text/plain": [
       "<IPython.core.display.Image object>"
      ]
     },
     "metadata": {},
     "output_type": "display_data"
    }
   ],
   "source": [
    "[signals, PC, V, mu, sig] = pca1(X);\n",
    "\n",
    "plot(X(1,:),X(2,:),'ko'); xlabel ('x'); ylabel ('y'); hold on;\n",
    "\n",
    "scale = 15;\n",
    "pc1 = line([mu(1) - scale * PC(1,1) mu(1) + scale * PC(1,1)], [mu(2) - scale * PC(2,1) mu(2) + scale * PC(2,1)]);\n",
    "pc2 = line([mu(1) - scale * PC(1,2) mu(1) + scale * PC(1,2)], [mu(2) - scale * PC(2,2) mu(2) + scale * PC(2,2)]);\n",
    "text(mu(1) - scale * PC(1,1), mu(2) - scale * PC(2,1), 'PC1','color',[1 0 0]);\n",
    "text(mu(1) + scale * PC(1,2), mu(2) + scale * PC(2,2), 'PC2','color',[0 1 0]);\n",
    "set(pc1, 'color', [1 0 0], \"linestyle\", \"--\");\n",
    "set(pc2, 'color', [0 1 0], \"linestyle\", \"--\");\n",
    "\n",
    "printf('O produto escalar entre PC1 e PC2 é igual a %.1f, e portanto são ortogonais.\\n', dot(PC(:,1),PC(:,2)));\n",
    "va = cumsum(V) / sum(V);\n",
    "printf('A variância associada à primeira componente princial é %.2f\\n',va(1));"
   ]
  },
  {
   "cell_type": "markdown",
   "metadata": {},
   "source": [
    "Vamos realizar a projeção dos dados nas componentes principais (iremos obeter o mesmo resultado já armazenado na variável ```signals```, a menos da normalização de variância que abaixo não está sendo aplicada). Note que a linha abaixo é a mesma que a última linha da função ```pca1```, porém na função a projeção está sendo realizada com os dados normalizados."
   ]
  },
  {
   "cell_type": "code",
   "execution_count": 4,
   "metadata": {},
   "outputs": [
    {
     "name": "stdout",
     "output_type": "stream",
     "text": [
      "ans =\n",
      "\n",
      "     2   100\n",
      "\n",
      "ans =\n",
      "\n",
      "   2   1\n",
      "\n"
     ]
    }
   ],
   "source": [
    "% projeção dos dados \n",
    "Xp = PC' * (X - mu);\n",
    "size(X), size(mu)"
   ]
  },
  {
   "cell_type": "markdown",
   "metadata": {},
   "source": [
    "Note que ```X``` e ```mu``` possuem dimensões diferentes, entretando o número de linhas é igual. Ao realizar ```X - mu``` (no GNU Octave) é realizado um *broadcast* do operador (subtração, no casa em tela). Outra opção é utilizar a função ```bsxfun``` conforme a seguir: ```bsxfun(@minus, X, mu)```. Alternativamente, podemos gerar uma matriz com o mesmo tamanho com os valores a serem subtraídos: ```X - repmat(mu,1,size(X,2))```. O mesmo é válido para a soma, podemos aplicar alguma das formas expostas anteriormente."
   ]
  },
  {
   "cell_type": "markdown",
   "metadata": {},
   "source": [
    "Agora iremos elimiar a informação da segunda componente principal e aplicar a transformação inversa (note que, se nenhum informação for eliminada, podemos aplicar a transformação inversa e encontrar os dados originais novamente)."
   ]
  },
  {
   "cell_type": "code",
   "execution_count": 5,
   "metadata": {},
   "outputs": [
    {
     "data": {
      "image/png": "[encoded data removed]",
      "text/plain": [
       "<IPython.core.display.Image object>"
      ]
     },
     "metadata": {},
     "output_type": "display_data"
    }
   ],
   "source": [
    "Xp1 = Xp; Xp1(2,:) = zeros(1,size(Xp,2));\n",
    "% reconstrução\n",
    "Xr = PC * Xp1 + mu;\n",
    "plot(Xr(1,:),Xr(2,:),'ko'); xlabel ('x'); ylabel ('y'); \n",
    "\n",
    "scale = 15;\n",
    "pc1 = line([mu(1) - scale * PC(1,1) mu(1) + scale * PC(1,1)], [mu(2) - scale * PC(2,1) mu(2) + scale * PC(2,1)]);\n",
    "pc2 = line([mu(1) - scale * PC(1,2) mu(1) + scale * PC(1,2)], [mu(2) - scale * PC(2,2) mu(2) + scale * PC(2,2)]);\n",
    "text(mu(1) - scale * PC(1,1), mu(2) - scale * PC(2,1), 'PC1','color',[1 0 0]);\n",
    "text(mu(1) + scale * PC(1,2), mu(2) + scale * PC(2,2), 'PC2','color',[0 1 0]);\n",
    "set(pc1, 'color', [1 0 0], \"linestyle\", \"--\");\n",
    "set(pc2, 'color', [0 1 0], \"linestyle\", \"--\");"
   ]
  },
  {
   "cell_type": "markdown",
   "metadata": {},
   "source": [
    "Mantendo agora apenas os informação projetada na segunda componente principal e realizando a reconstrução para o espaço original."
   ]
  },
  {
   "cell_type": "code",
   "execution_count": 6,
   "metadata": {},
   "outputs": [
    {
     "data": {
      "image/png": "[encoded data removed]",
      "text/plain": [
       "<IPython.core.display.Image object>"
      ]
     },
     "metadata": {},
     "output_type": "display_data"
    }
   ],
   "source": [
    "Xp2 = Xp; Xp2(1,:) = zeros(1,size(Xp,2));\n",
    "% reconstrução\n",
    "Xr = PC * Xp2 + mu;\n",
    "plot(Xr(1,:),Xr(2,:),'ko'); xlabel ('x'); ylabel ('y'); \n",
    "\n",
    "scale = 15;\n",
    "pc1 = line([mu(1) - scale * PC(1,1) mu(1) + scale * PC(1,1)], [mu(2) - scale * PC(2,1) mu(2) + scale * PC(2,1)]);\n",
    "pc2 = line([mu(1) - scale * PC(1,2) mu(1) + scale * PC(1,2)], [mu(2) - scale * PC(2,2) mu(2) + scale * PC(2,2)]);\n",
    "text(mu(1) - scale * PC(1,1), mu(2) - scale * PC(2,1), 'PC1','color',[1 0 0]);\n",
    "text(mu(1) + scale * PC(1,2), mu(2) + scale * PC(2,2), 'PC2','color',[0 1 0]);\n",
    "set(pc1, 'color', [1 0 0], \"linestyle\", \"--\");\n",
    "set(pc2, 'color', [0 1 0], \"linestyle\", \"--\");"
   ]
  },
  {
   "cell_type": "markdown",
   "metadata": {},
   "source": [
    "# Exemplo - Dados de Vinhos\n",
    "    \n",
    "Iremos utilizar agora os dados sobre vinhos disponíveis em \n",
    "\n",
    "http://archive.ics.uci.edu/ml/datasets/Wine\n",
    "\n",
    "Dados:\n",
    "http://archive.ics.uci.edu/ml/machine-learning-databases/wine/wine.data\n",
    "\n",
    "Descrição dos dados:\n",
    "http://archive.ics.uci.edu/ml/machine-learning-databases/wine/wine.names"
   ]
  },
  {
   "cell_type": "code",
   "execution_count": 7,
   "metadata": {},
   "outputs": [
    {
     "name": "stdout",
     "output_type": "stream",
     "text": [
      "--2020-09-03 14:40:46--  http://archive.ics.uci.edu/ml/machine-learning-databases/wine/wine.data\n",
      "Resolving archive.ics.uci.edu (archive.ics.uci.edu)... 128.195.10.252\n",
      "Connecting to archive.ics.uci.edu (archive.ics.uci.edu)|128.195.10.252|:80... connected.\n",
      "HTTP request sent, awaiting response... 200 OK\n",
      "Length: 10782 (11K) [application/x-httpd-php]\n",
      "Saving to: ‘/tmp/wine.data’\n",
      "\n",
      "/tmp/wine.data      100%[===================>]  10.53K  --.-KB/s    in 0.001s  \n",
      "\n",
      "2020-09-03 14:40:47 (13.0 MB/s) - ‘/tmp/wine.data’ saved [10782/10782]\n",
      "\n"
     ]
    }
   ],
   "source": [
    "system('wget -O /tmp/wine.data http://archive.ics.uci.edu/ml/machine-learning-databases/wine/wine.data');"
   ]
  },
  {
   "cell_type": "code",
   "execution_count": 8,
   "metadata": {},
   "outputs": [],
   "source": [
    "data = load('/tmp/wine.data');"
   ]
  },
  {
   "cell_type": "code",
   "execution_count": 9,
   "metadata": {},
   "outputs": [
    {
     "name": "stdout",
     "output_type": "stream",
     "text": [
      "Variables in the current scope:\n",
      "\n",
      "   Attr Name        Size                     Bytes  Class\n",
      "   ==== ====        ====                     =====  ===== \n",
      "        data      178x14                     19936  double\n",
      "\n",
      "Total is 2492 elements using 19936 bytes\n",
      "\n"
     ]
    }
   ],
   "source": [
    "whos data"
   ]
  },
  {
   "cell_type": "markdown",
   "metadata": {},
   "source": [
    "Segue abaixo um trecho da descrição dos dados:\n",
    "\n",
    "    % These data are the results of a chemical analysis of\n",
    "    % wines grown in the same region in Italy but derived from three\n",
    "    % different cultivars.\n",
    "    % The analysis determined the quantities of 13 constituents\n",
    "    % found in each of the three types of wines. \n",
    "    %\n",
    "    % Number of Instances\n",
    "    %       class 1 59\n",
    "    %       class 2 71\n",
    "    %       class 3 48\n",
    "\n",
    "Os dados possuem 14 colunas, sendo a primeira o rótulo (identificação da origem do vinho) e as demais colunas são atributos do vinho."
   ]
  },
  {
   "cell_type": "code",
   "execution_count": 10,
   "metadata": {},
   "outputs": [],
   "source": [
    "attributes = {'Alcohol', 'Malic acid', 'Ash', 'Alcalinity of ash', ...\n",
    "                'Magnesium', 'Total phenols', 'Flavanoids', 'Nonflavanoid phenols', ...\n",
    "                'Proanthocyanins', 'Color intensity', 'Hue', 'OD280/OD315 of diluted wines', 'Proline'};"
   ]
  },
  {
   "cell_type": "markdown",
   "metadata": {},
   "source": [
    "Iremos organizar as informações dispondo os rótulos das amostras na variável ```label``` e as amostras na variável ```X```, de forma que tenhamos as amostras dispostas como colunas de ```X```."
   ]
  },
  {
   "cell_type": "code",
   "execution_count": 11,
   "metadata": {},
   "outputs": [],
   "source": [
    "classes = unique (data(:,1));\n",
    "label = data(:,1);\n",
    "X = data(:,2:end)';"
   ]
  },
  {
   "cell_type": "markdown",
   "metadata": {},
   "source": [
    "Antes de proceder com o cálculo da PCA, vamos definir uma função para plotar os dados, utilizando marcadores e cores diferentes para cada classe."
   ]
  },
  {
   "cell_type": "code",
   "execution_count": 14,
   "metadata": {},
   "outputs": [],
   "source": [
    "function h = plotdata (x, y, l, labels)\n",
    "  if nargin < 4, labels = {'ro','go','bo','rx','gx','bx','rd','gd','bd'}; endif;\n",
    "  h = figure; hold on;\n",
    "  ul = unique (l);\n",
    "  for il=1:length(ul),\n",
    "     id = find (l == ul(il));\n",
    "     plot (x(id), y(id), labels{il}, 'markersize', 5, 'linewidth', 2);\n",
    "  endfor;\n",
    "  hold off;\n",
    "endfunction"
   ]
  },
  {
   "cell_type": "markdown",
   "metadata": {},
   "source": [
    "E por fim vamos aplicar a PCA aos dados e mostrar a representação considerando apenas as 2 primeiras componentes."
   ]
  },
  {
   "cell_type": "code",
   "execution_count": 15,
   "metadata": {},
   "outputs": [
    {
     "name": "stdout",
     "output_type": "stream",
     "text": [
      "ans =  0.36199\n",
      "ans =\n",
      "\n",
      " Columns 1 through 8:\n",
      "\n",
      "   0.36199   0.55406   0.66530   0.73599   0.80162   0.85098   0.89337   0.92018\n",
      "\n",
      " Columns 9 through 13:\n",
      "\n",
      "   0.94240   0.96170   0.97907   0.99205   1.00000\n",
      "\n"
     ]
    },
    {
     "data": {
      "image/png": "[encoded data removed]",
      "text/plain": [
       "<IPython.core.display.Image object>"
      ]
     },
     "metadata": {},
     "output_type": "display_data"
    }
   ],
   "source": [
    "[signals, PC, V, mu, sig] = pca1(X);\n",
    "V(1)/sum(V)\n",
    "cumsum(V)'/sum(V)\n",
    "\n",
    "plotdata (signals(1,:)', signals(2,:)', label);\n",
    "xlabel ('pc1'); ylabel ('pc2');"
   ]
  },
  {
   "cell_type": "markdown",
   "metadata": {},
   "source": [
    "Note na figura como podemos separar as amostras e determinar o cultivar dos vinhos analisando para tando as duas primeiras componentes principais. Faça outros testes: verifique o que ocorre se a PCA não realizar a normalização dos dados; verifique se algum conjunto 2 ou 3 atributos isoladamente é capaz de fornecer uma separação boa entre as classes."
   ]
  }
 ],
 "metadata": {
  "kernelspec": {
   "display_name": "Octave",
   "language": "octave",
   "name": "octave"
  },
  "language_info": {
   "file_extension": ".m",
   "help_links": [
    {
     "text": "GNU Octave",
     "url": "https://www.gnu.org/software/octave/support.html"
    },
    {
     "text": "Octave Kernel",
     "url": "https://github.com/Calysto/octave_kernel"
    },
    {
     "text": "MetaKernel Magics",
     "url": "https://github.com/calysto/metakernel/blob/master/metakernel/magics/README.md"
    }
   ],
   "mimetype": "text/x-octave",
   "name": "octave",
   "version": "5.2.0"
  }
 },
 "nbformat": 4,
 "nbformat_minor": 4
}
