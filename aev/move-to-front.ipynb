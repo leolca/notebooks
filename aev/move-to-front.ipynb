{
 "cells": [
  {
   "cell_type": "markdown",
   "metadata": {},
   "source": [
    "# Move-to-Front\n",
    "\n",
    "A codificação *move-to-front* é uma forma de codificação de dados apropriada para melhorar a performance dos codificadores de entropia. Essa codificação consiste em utilizar um dicionário adapatativo para indexar os símbolos produzidos por uma fonte. Os símbolos são condificados por seu índice no dicionário, porém após codificar cada símbolo, o dicionário é alterado, levando o último símbolo codificado para o início do dicionário. Este método foi proposto por Boris Yakovlevich Ryabko (1980) e de forma independente por Peter Elias (1984).\n",
    "\n",
    "Leia mais sobre o move-to-front: \n",
    "- https://en.wikipedia.org/wiki/Move-to-front_transform\n",
    "- [David Salomon, *Data Compression: The Complete Reference*, Springer, 2013](https://books.google.com.br/books?id=P4XjBwAAQBAJ&pg=PA16)\n",
    "\n",
    "Procure também as variações do *move-to-front*.\n",
    "- move-ahead-k \n",
    "- wait-c-and-move\n",
    "- wait-c-and-move-ahead-k\n",
    "\n",
    "Iremos implementar o *move-to-front* e utilizá-lo na codificação de uma imagem."
   ]
  },
  {
   "cell_type": "code",
   "execution_count": 1,
   "metadata": {},
   "outputs": [
    {
     "data": {
      "image/png": "[encoded data removed]",
      "text/plain": [
       "<IPython.core.display.Image object>"
      ]
     },
     "metadata": {},
     "output_type": "display_data"
    }
   ],
   "source": [
    "X = rgb2gray (imread ('imgs/Mario_Bros.png'));\n",
    "imshow(X);\n",
    "sX = size(X);"
   ]
  },
  {
   "cell_type": "markdown",
   "metadata": {},
   "source": [
    "Vamos definir abaixo a função para fazer a codificação usando o move-to-front e a função de decodificação. \n",
    "\n",
    "Para realizar a codificação iremos utilizar um dicionário inicial com a lista dos símbolos utilizados pela fonte. Caso este dicionário inicial não seja fornecido para a função, esta criará um lista de todos os símbolos (*unique*) existentes no sinal a ser codificado."
   ]
  },
  {
   "cell_type": "code",
   "execution_count": 2,
   "metadata": {},
   "outputs": [],
   "source": [
    "function [enc, start_dic] = mov2frontenco( X, dic )\n",
    "% move-to-front encoder\n",
    "% enc = mov2frontenco(X, dic)\n",
    "% [enc, dic] = mov2frontenco(X)\n",
    "\n",
    "  if nargin < 2, start_dic = dic = unique (X(:)); endif\n",
    "\n",
    "  enc = [];\n",
    "  for i = 1 : length(X),\n",
    "    id = find( dic == X(i) );\n",
    "    enc = [enc; id-1];\n",
    "    dic(id) = [];\n",
    "    dic = [X(i); dic];\n",
    "  endfor\n",
    "\n",
    "endfunction"
   ]
  },
  {
   "cell_type": "code",
   "execution_count": 3,
   "metadata": {},
   "outputs": [],
   "source": [
    "function X = mov2frontdeco( enc, dic )\n",
    "% move-to-front decoder\n",
    "% X = mov2frontdeco( enc, dic )\n",
    "\n",
    "  X = [];\n",
    "  for i = 1:length(enc),\n",
    "     X = [X; dic(enc(i)+1)];\n",
    "     dic(enc(i)+1) = [];\n",
    "     dic = [X(end); dic];\n",
    "  endfor\n",
    "\n",
    "endfunction"
   ]
  },
  {
   "cell_type": "markdown",
   "metadata": {},
   "source": [
    "Agora iremos utilizar as funções definidas para realizar a codificação da imagem do Mário Bros. Faremo em seguida um histograma do resulado da codificação (a sequência de índices, referenciando o dicionário, que será utilizada na decodificação)."
   ]
  },
  {
   "cell_type": "code",
   "execution_count": 4,
   "metadata": {
    "scrolled": true
   },
   "outputs": [
    {
     "data": {
      "image/png": "[encoded data removed]",
      "text/plain": [
       "<IPython.core.display.Image object>"
      ]
     },
     "metadata": {},
     "output_type": "display_data"
    }
   ],
   "source": [
    "[enc, dic] = mov2frontenco( X(:) );\n",
    "maxe = max(enc);\n",
    "[nn, xx] = hist(enc,[0:maxe]);\n",
    "figure(\"position\",get(0,\"screensize\")./[1 1 2 3]);\n",
    "bar(xx, log10(nn)); ylabel('log_{10} numero de ocorrencias'); xlabel('indices');"
   ]
  },
  {
   "cell_type": "markdown",
   "metadata": {},
   "source": [
    "De forma geral, observaremos que a saída da codificação *move-to-front* será uma sequência de índices onde os menores índices terão maior probabilidade, pois os símbolos mais frequentes tendem a ficar no início do dicionário.\n",
    "\n",
    "Em seguida, iremos aproveitar esta característica observada na distribuição da saída do codificador para realizar uma codificação de entropia. Utilizamos o código de Huffman neste exemplo."
   ]
  },
  {
   "cell_type": "code",
   "execution_count": 5,
   "metadata": {},
   "outputs": [
    {
     "data": {
      "image/png": "[encoded data removed]",
      "text/plain": [
       "<IPython.core.display.Image object>"
      ]
     },
     "metadata": {},
     "output_type": "display_data"
    }
   ],
   "source": [
    "pkg load communications\n",
    "% maximum likelihood estimation of the distribution\n",
    "p = nn./sum(nn);\n",
    "hdic = huffmandict([0:maxe], p);\n",
    "len = []; for i = 1:length(hdic), len(i)=length(hdic{i}); endfor;\n",
    "figure(\"position\",get(0,\"screensize\")./[1 1 2 3])\n",
    "stem([0:maxe],len,'b-','linewidth',5); axh=axis; axh(1)=-1; axh(2)=maxe+1; axis(axh);\n",
    "hxl=xlabel('simbolos'); xp=get(hxl,'position'); xp(2)-=-0.02; set(hxl,'position',xp);\n",
    "ylabel('comprimento das palavras'); title('huffman');\n",
    "set(gca,'xtick',[0:maxe]); set(gca,'ytick',[1:max(len)]); grid on;\n",
    "tlbl = get(gca,'xticklabel'); \n",
    "for i = 1:maxe+1, tlbl{i}=cstrcat(tlbl{i},'\\n',strrep(num2str(hdic{i}),' ','')); endfor\n",
    "set(gca,'xticklabel',tlbl);"
   ]
  },
  {
   "cell_type": "markdown",
   "metadata": {},
   "source": [
    "Observe que os índices menores (mais prováveis) serão codificados por palavras com menor comprimento. Isto fará com que o comprimento esperado final da representação dos dados seja menor. Como sabemos, o código de Huffman é o código ótimo, dentre os códigos de símbolo. Vamos então utilizar o código de Huffman criado para codificar os dados. Note que a sequencia de bits gerada poderá não ter um comprimento múltiplo de 8. Desta forma, para escrever os dados byte a byte em um arquivo, vamos adicionar ao final da sequência tantos zeros quanto forem necessários para que o comprimento final da sequência seja um múltiplo de 8, sendo assim possível dividir em bytes (o que faremos usando a função *reshape* para dispor cada byte como uma linha da matriz)."
   ]
  },
  {
   "cell_type": "code",
   "execution_count": 6,
   "metadata": {},
   "outputs": [],
   "source": [
    "henc = huffmanenco (enc+1, hdic);\n",
    "nbits = length(henc);\n",
    "nbytes = ceil(nbits/8); % number of bytes required\n",
    "henc = [henc zeros(1,nbytes*8-nbits)]; % pad with zeros to make it a multiple of 8\n",
    "henc = reshape(henc,nbytes,8); % arrange each byte in a row "
   ]
  },
  {
   "cell_type": "markdown",
   "metadata": {},
   "source": [
    "Será necessário também guardar o código de Huffman utilizado, para que o decodificador seja capaz de recuperar a mensagem. Para tanto, vamos transforma a estrutura de célula que armazena a tabela de código Huffman em uma *string*, utilizando o ponto-e-vírgula como reparador das palavas do código."
   ]
  },
  {
   "cell_type": "code",
   "execution_count": 7,
   "metadata": {},
   "outputs": [
    {
     "name": "stdout",
     "output_type": "stream",
     "text": [
      "shdic = 1;001;000;011;0101;01001;010001;0100001;01000001;010000000;010000001\n"
     ]
    }
   ],
   "source": [
    "# write huffman dictionary as a string\n",
    "shdic = '';\n",
    "for i = 1:length(hdic),\n",
    "  s = num2str(hdic{i});\n",
    "  s = s(s ~= ' ');\n",
    "  shdic = cstrcat(shdic,s,';');\n",
    "endfor;\n",
    "shdic=shdic(1:end-1);\n",
    "shdic"
   ]
  },
  {
   "cell_type": "markdown",
   "metadata": {},
   "source": [
    "Vamos agora armazenar em um arquivo binário os dados necessários para reconstruir a imagem original. Para ser possível realizar a reconstrução, precisaremos armazenar também o tamanho da imagem original, o dicionário utilizado no método move-to-front e o número de bits total da codificação huffman.\n",
    "\n",
    "Por fim calculamos a taxa de compressão obtida."
   ]
  },
  {
   "cell_type": "code",
   "execution_count": 8,
   "metadata": {},
   "outputs": [
    {
     "name": "stdout",
     "output_type": "stream",
     "text": [
      "mario.mfh has 8661 bytes\n",
      "compression ratio = 6.62\n",
      "compression ratio = 6.62\n"
     ]
    }
   ],
   "source": [
    "filename = '/tmp/mario.mfh';\n",
    "fid = fopen (filename,'w');\n",
    "fprintf (fid,'# m2fh\\n%d %d\\n%d\\n',sX,nbits); % write a header with format name, image size and number of bits used\n",
    "fprintf (fid,cstrcat(repmat ('%d ',1,length(dic)),'\\n'),dic');\n",
    "fprintf (fid,'%s\\n',shdic);\n",
    "fwrite (fid, uint8( bi2de (henc) ), 'uint8'); % write image data\n",
    "fclose(fid);\n",
    "dr = dir('/tmp/mario.mfh');\n",
    "printf ('%s has %d bytes\\ncompression ratio = %.2f', dr.name, dr.bytes, prod(sX)/dr.bytes);"
   ]
  },
  {
   "cell_type": "markdown",
   "metadata": {},
   "source": [
    "Após salvar o arquivo comprimido da imagem, vamos verificar se este processo realmente funcionou. Vamos agora ler o arquivo binário e recuperar a imagem.\n",
    "\n",
    "Vamos inicialmente ler todas as informações do arquivo."
   ]
  },
  {
   "cell_type": "code",
   "execution_count": 9,
   "metadata": {},
   "outputs": [],
   "source": [
    "fid = fopen(filename,'r');\n",
    "header = fgetl (fid);\n",
    "if strcmp(header,'# m2fh'),\n",
    "  im_size = str2num(fgetl (fid));\n",
    "  n_bits = str2num(fgetl (fid));\n",
    "  dic = str2num(fgetl (fid))';\n",
    "  s_hdic = strsplit (fgetl (fid), ';');\n",
    "  data = fread (fid, Inf, 'uint8');\n",
    "endif\n",
    "fclose(fid);"
   ]
  },
  {
   "cell_type": "markdown",
   "metadata": {},
   "source": [
    "O primeiro passo da decodificação é a decodificação Huffman. Precisaremos então recriar a célula com o dicionário de Huffman utilizado, para em seguida utilizá-lo na função *huffmandeco*. Lembre-se de remover os zeros adicionados ao final (se este for o caso)."
   ]
  },
  {
   "cell_type": "code",
   "execution_count": 10,
   "metadata": {},
   "outputs": [],
   "source": [
    "h_dic = {};\n",
    "for i = 1:length(s_hdic),\n",
    "  h_dic{i} = str2num(regexprep (s_hdic{i},'([01])','$1 '));\n",
    "endfor\n",
    "\n",
    "dbv = de2bi(data); % convert back to binary vector\n",
    "dbv = reshape(dbv, 1, prod(size(dbv)));\n",
    "dbv = dbv(1:n_bits); % remove padded zeros >>> if we dont cut it might generate warnings and we will need to remove the error entry\n",
    "back = huffmandeco (dbv, h_dic);\n",
    "% >> remove comment if you dont store the nbits value\n",
    "%id_invalid = find(back == -1);\n",
    "%back(id_invalid) = [];"
   ]
  },
  {
   "cell_type": "markdown",
   "metadata": {},
   "source": [
    "Por fim iremos realizar a decodificação do *move-to-front*, ajustar os pixels reconstruídos para as dimensões originais da imagem e exibir a imagem decodificada."
   ]
  },
  {
   "cell_type": "code",
   "execution_count": 11,
   "metadata": {},
   "outputs": [
    {
     "data": {
      "image/png": "[encoded data removed]",
      "text/plain": [
       "<IPython.core.display.Image object>"
      ]
     },
     "metadata": {},
     "output_type": "display_data"
    }
   ],
   "source": [
    "Xr = mov2frontdeco( back-1, dic );\n",
    "Xr = reshape(Xr,im_size);\n",
    "imshow(uint8(Xr));"
   ]
  }
 ],
 "metadata": {
  "kernelspec": {
   "display_name": "Octave",
   "language": "octave",
   "name": "octave"
  },
  "language_info": {
   "file_extension": ".m",
   "help_links": [
    {
     "text": "GNU Octave",
     "url": "https://www.gnu.org/software/octave/support.html"
    },
    {
     "text": "Octave Kernel",
     "url": "https://github.com/Calysto/octave_kernel"
    },
    {
     "text": "MetaKernel Magics",
     "url": "https://github.com/calysto/metakernel/blob/master/metakernel/magics/README.md"
    }
   ],
   "mimetype": "text/x-octave",
   "name": "octave",
   "version": "4.4.1"
  }
 },
 "nbformat": 4,
 "nbformat_minor": 2
}
