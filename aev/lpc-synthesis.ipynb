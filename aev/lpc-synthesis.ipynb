{
 "cells": [
  {
   "cell_type": "markdown",
   "metadata": {
    "kernel": "SoS"
   },
   "source": [
    "# LPC\n",
    "\n",
    "\n",
    "![Corte sagital do trato vocal (Wikipedia)](imgs/Sagittalmouth.png)\n",
    "\n",
    "Um codificador de fonte utiliza um modelo matemático para a fonte produtora dos sinal que desejamos codificar/transmitir. Se o sinal original corresponde a um sinal de voz, o codificador de fonte é chamado vocodes (*voice coder*). O exemplo mais comum é o LPC (linear predictive coder). \n",
    "\n",
    "A produção da fala pode ser compreendida como a geração de um sinal de excitação, através da expulsão de ar dos pulmões, podendo gerar turbulência e/ou vibração nas pregas vocais. Este sinal de excitação se propaga ao longo do trato vocal. Este processo, sob a ótica de processamento de sinais, pode ser compreendido como um modelo fonte filtro. \n",
    "\n",
    "![](imgs/lpc-scheme.png)\n",
    "\n",
    "O LPC utiliza um modelo de predição linear para representar o modelo do envelope de espectro de um trecho de um sinal de voz. Desta forma, não é necessário transmitir/armazenar as amostras do sinal\n",
    "de voz, mas apenas os parâmetros de excitação do filtro, o ganho e o filtro de predição linear.\n",
    "\n",
    "O LPC supões então um modelo simplificado da fonte, podendo produzir um trem de pulsos (para trechos vozeados de fala) ou ruído branco (para trechos não vozeados de fala). O primeiro passo então é determinar se o sinal que será codificado é vozeado ou não. Podemos utilizar a autocorreção para realizar esta distinção, conforme veremos no exemplo abaixo.\n",
    "\n",
    "Além de determinar as características da fonte, devemos determinar o filtro que melhor representar o sistema do trato vocal em um determinado trecho do sinal de fala.\n",
    "\n",
    "![](imgs/lpc-scheme2.png)\n",
    "\n",
    "O LPC analisa o sinal de voz realizando um estimativa dos formantes, removendo o efeitos destes no sinal de fala, e estimando a intensidade e frequência do zumbido remanescente. O processo de remover o efeito dos formantes é chamado de filtragem inversa, e o sinal remanescente após a subtração do sinal modelado filtrado é chamado de resı́duo. Os parâmetros que descrevem a intensidade e frequência do zumbido, os formantes, e o sinal de resı́duo, podem ser armazenados ou transmitidos. \n",
    "\n",
    "A sı́ntese LPC do sinal de fala utiliza o processo inverso: utiliza os parâmetros do zumbido e o resı́duo para criar sinal da fonte, utiliza os formantes para criar um filtro (que representa a cavidade do trato vocal), e passa o sinal da fonte pelo filtro, resultando no sinal de fala. Como o sinal de fala varia ao longo do tempo, este processo é feito em pequenos trechos de sinal de fala, chamados quadros; usualmente de 30 a 50 quadros por segundo são utilizados para fornecer um sinal com boa compressão e fala inteligı́vel.\n"
   ]
  },
  {
   "cell_type": "code",
   "execution_count": 157,
   "metadata": {
    "kernel": "Bash"
   },
   "outputs": [],
   "source": [
    "#URL=\"https://archive.org/download/78_on-a-bicycle-built-for-two-daisy-bell_dinah-shore-harry-dacre-paul-wetstein_gbia0061230b/On%20a%20Bicycle%20Built%20for%20Two%20%28Daisy%20Bell%29%20-%20Dinah%20Shore.mp3\"\n",
    "#URL=\"https://ia800609.us.archive.org/32/items/BicycleBuiltForTwo/bicycle_built_for_2_feb16_2012.ogg\"\n",
    "URL=\"https://ia800204.us.archive.org/13/items/BicycleBuiltForTwo_201602/Bicycle%20Built%20For%20Two.ogg\"\n",
    "if [ ! -f \"/tmp/Daisy.wav\" ]; then\n",
    "  wget -q $URL -O /tmp/Daisy.ogg\n",
    "  ffmpeg -i /tmp/Daisy.ogg /tmp/Daisy.wav \n",
    "fi"
   ]
  },
  {
   "cell_type": "markdown",
   "metadata": {
    "kernel": "Bash"
   },
   "source": [
    "Na codificação LPC devemos determinar se um sinal é vozeado ou não. Caso seja vozeado devemos determinar a sua frequência fundamental (f0). Os dois problemas podem ser resolvidos através da função de auto-correlação. \n",
    "\n",
    "Vamos analisar com uma amostra de áudio da vogal 'a'. "
   ]
  },
  {
   "cell_type": "code",
   "execution_count": 2,
   "metadata": {
    "kernel": "Bash"
   },
   "outputs": [],
   "source": [
    "if [ ! -f \"/tmp/ah.ogg\" ]; then\n",
    "  wget -q https://web.uvic.ca/ling/resources/ipa/charts/IPAlab/IPAsounds/open_front_unrounded.mp3 -O /tmp/ah.mp3\n",
    "  ffmpeg -i /tmp/ah.mp3 /tmp/ah.ogg \n",
    "fi"
   ]
  },
  {
   "cell_type": "code",
   "execution_count": 89,
   "metadata": {
    "kernel": "octave"
   },
   "outputs": [
    {
     "data": {
      "image/png": "[encoded data removed]",
      "text/plain": [
       "<IPython.core.display.Image object>"
      ]
     },
     "metadata": {},
     "output_type": "display_data"
    }
   ],
   "source": [
    "pkg load signal\n",
    "pkg load communications\n",
    "\n",
    "[x, fs] = audioread ('/tmp/ah.ogg');\n",
    "x = x(9E3:29E3); % remover silencio\n",
    "x = decimate(x,5);\n",
    "fs = fs/5;\n",
    "t = [0:1/fs:(length(x)-1)/fs]; \n",
    "start=round(0.15*fs);\n",
    "wl = round(50E-3 * fs); % 40 ms\n",
    "figure; subplot(2,1,1); plot(t,x); hold on; plot(t(start:start+wl),x(start:start+wl),'r');\n",
    "line([t(start) t(start)],get(gca,'YLim'),'Color',[1 0 0]);\n",
    "line([t(start+wl) t(start+wl)],get(gca,'YLim'),'Color',[1 0 0]);\n",
    "subplot(2,1,2); plot(t(start:start+wl),x(start:start+wl),'r'); \n",
    "xlim([t(start),t(start+wl)]); xlabel('tempo (s)');"
   ]
  },
  {
   "cell_type": "markdown",
   "metadata": {
    "kernel": "octave"
   },
   "source": [
    "Ao analisar um trecho da vogal, podemos verificar que o sinal é quasi-periódico. Para determinar a frequência fundamental, vamos utilizar a função de auto-correlação e encontrar o pico.\n",
    "\n",
    "Primeiro vamos definir uma função para localizar picos."
   ]
  },
  {
   "cell_type": "code",
   "execution_count": 38,
   "metadata": {
    "kernel": "octave"
   },
   "outputs": [],
   "source": [
    "function [pks,locs] = findpeaks(data)\n",
    "% [pks,locs] = findpeaks(data)\n",
    "%   find the peaks values on vector data\n",
    "  n = length(data);\n",
    "  locs = find([data(2:n,1) - data(1:n-1,1) < 0; 1] & [1; data(1:n-1,1) - data(2:n,1) < 0]);\n",
    "  pks = data(locs);\n",
    "endfunction "
   ]
  },
  {
   "cell_type": "markdown",
   "metadata": {
    "kernel": "octave"
   },
   "source": [
    "Em seguida vamos analisar os picos de autocorrelação do sinal."
   ]
  },
  {
   "cell_type": "code",
   "execution_count": 91,
   "metadata": {
    "kernel": "octave"
   },
   "outputs": [
    {
     "data": {
      "image/png": "[encoded data removed]",
      "text/plain": [
       "<IPython.core.display.Image object>"
      ]
     },
     "metadata": {},
     "output_type": "display_data"
    }
   ],
   "source": [
    "[r,l] = xcorr(x(start:start+wl));\n",
    "[pks,locs] = findpeaks(r(wl:end));\n",
    "figure; plot(l(wl:end),r(wl:end)); hold on; plot(locs,pks,'dk');\n",
    "xlim([0, wl]); ylabel('r'); xlabel('atraso');"
   ]
  },
  {
   "cell_type": "markdown",
   "metadata": {
    "kernel": "octave"
   },
   "source": [
    "Queremos determinar o segundo maior pico. Para tanto vamos ordenar o vetor e selecionar o segundo. O segundo pico de auto-correlação ocorre após passar um quasi-período."
   ]
  },
  {
   "cell_type": "code",
   "execution_count": 92,
   "metadata": {
    "kernel": "octave"
   },
   "outputs": [
    {
     "name": "stdout",
     "output_type": "stream",
     "text": [
      "a frequencia fundamental é f0=129.7 Hz.\n",
      "a frequencia fundamental é f0=129.7 Hz.\n"
     ]
    }
   ],
   "source": [
    "[_,id] = sort(pks,\"descend\");\n",
    "T0 = locs(id(2))/fs;\n",
    "f0 = 1/T0;\n",
    "printf(\"a frequencia fundamental é f0=%.1f Hz.\",f0);"
   ]
  },
  {
   "cell_type": "markdown",
   "metadata": {
    "kernel": "octave"
   },
   "source": [
    "Quando o sinal não for vozeado, não existirão picos proeminentes. Podemos então estabelecer um limiar para considerar um pico como válido. Se existirem picos acima deste limiar, poderemos considerar o sinal como vozeado. Faça um teste com trechos de sinal não vozeado e verifique o comportamento.\n",
    "\n",
    "\n",
    "Podemos utilizar o modelo LPC para representar a vogal dada. Já determinamos a frequência fundamental. Devemos agora determinar o filtro, utilizando para tanto a função **lpc**."
   ]
  },
  {
   "cell_type": "code",
   "execution_count": 94,
   "metadata": {
    "kernel": "octave"
   },
   "outputs": [
    {
     "data": {
      "image/png": "[encoded data removed]",
      "text/plain": [
       "<IPython.core.display.Image object>"
      ]
     },
     "metadata": {},
     "output_type": "display_data"
    }
   ],
   "source": [
    "p = 12; % ordem do modelo\n",
    "[a, g] = lpc (x, p);\n",
    "freqz(1,a);"
   ]
  },
  {
   "cell_type": "code",
   "execution_count": 110,
   "metadata": {
    "kernel": "octave"
   },
   "outputs": [
    {
     "name": "stdout",
     "output_type": "stream",
     "text": [
      "frequencia dos 4 primeiros formantes (Hz): 933.7, 1340.4, 3515.4, 2691.2\n",
      "frequencia dos 4 primeiros formantes (Hz): 933.7, 1340.4, 3515.4, 2691.2\n"
     ]
    }
   ],
   "source": [
    "ra = roots(a);\n",
    "id = find(imag(ra)>0); % selecionar apenas um polo de cada par\n",
    "ra = ra(id);\n",
    "[_,id] = sort(abs(ra),'descend');\n",
    "F = (fs/2)*angle(ra(id(1:4)))/pi;\n",
    "printf(\"frequencia dos 4 primeiros formantes (Hz): %.1f, %.1f, %.1f, %.1f\", F);"
   ]
  },
  {
   "cell_type": "code",
   "execution_count": 78,
   "metadata": {
    "kernel": "octave"
   },
   "outputs": [
    {
     "data": {
      "image/png": "[encoded data removed]",
      "text/plain": [
       "<IPython.core.display.Image object>"
      ]
     },
     "metadata": {},
     "output_type": "display_data"
    }
   ],
   "source": [
    "step = fix(5*fs/1000); # one spectral slice every 5 ms\n",
    "window = fix(20*fs/1000);  # 20 ms data window\n",
    "fftn = 2^nextpow2(window); # next highest power of 2\n",
    "[S, f, tt] = specgram(x, fftn, fs, window, window-step);\n",
    "S = abs(S(2:fftn*4000/fs,:)); # magnitude in range 0<f<=4000 Hz\n",
    "S = S/max(S(:)); \n",
    "S = max(S, 10^(-30/10));   # clip below -30 dB.\n",
    "S = min(S, 10^(-2/10));    # clip above -2 dB.\n",
    "imagesc (tt, f(2:fftn*4000/fs), log(S));    # display in log scale\n",
    "set (gca, \"ydir\", \"normal\");\n",
    "cmap=repmat([255:-1:0]'/255,1,3);\n",
    "colormap(cmap);\n",
    "xlabel('tempo (s)'); ylabel('freq. (Hz)'); title('espectrograma');"
   ]
  },
  {
   "cell_type": "code",
   "execution_count": 113,
   "metadata": {
    "kernel": "octave"
   },
   "outputs": [],
   "source": [
    "function x = createpulsetrain(fs,d,f0,jit,shim)\n",
    "%\n",
    "%  x = createpulsetrain(fs,d,f0,jit)\n",
    "%  fs : frequencia de amostragem do sinal\n",
    "%  d : duracao desejada do trem de pulsos a ser gerado (segundos)\n",
    "%  f0 : frequencia fundamental \n",
    "%  jit : percentual de jitter [0,1]\n",
    "%  shim : percentual de shimmer [0,1]\n",
    "%\n",
    "%\n",
    "%  Jitter and shimmer represent the variations that occur in the fundamental frequency. \n",
    "%  Whereas jitter indicates the variability or perturbation of fundamental frequency, \n",
    "%  shimmer refers to the same perturbation, but it is related to amplitude of sound wave, \n",
    "%  or intensity of vocal emission. Jitter is affected mainly because of lack of control of \n",
    "%  vocal fold vibration and shimmer with reduction of glottic resistance and mass lesions \n",
    "%  in the vocal folds, which are related with presence of noise at emission and breathiness\n",
    "%\n",
    "if jit < 0 || jit > 1, error('jitter must be in ther inverval [0,1]'); endif;\n",
    "if shim < 0 || shim > 1, error('shimmer must be in ther inverval [0,1]'); endif;\n",
    "if f0 > fs/2, error('are you crazy?'); endif;\n",
    "\n",
    "L = d * fs; % desired length (samples)\n",
    "i = 0; x = [];\n",
    "while(length(x) < L),\n",
    "   f0r = (jit*f0)*rand + f0;\n",
    "   lag = round(fs / f0r);\n",
    "   x = [x  zeros(1,lag-1) (1-shim*rand)];\n",
    "endwhile\n",
    "if(length(x) > L), x = x(1:L); endif;\n",
    "endfunction"
   ]
  },
  {
   "cell_type": "code",
   "execution_count": 131,
   "metadata": {
    "kernel": "octave"
   },
   "outputs": [],
   "source": [
    "sig = createpulsetrain(fs,length(x)/fs,f0,0.05,0.1);\n",
    "xr = filter(1,a,sig);\n",
    "sound(xr,fs);"
   ]
  },
  {
   "cell_type": "code",
   "execution_count": 155,
   "metadata": {
    "kernel": "octave"
   },
   "outputs": [],
   "source": [
    "function x = createexcitation(fs,d,f0,jit,shim)\n",
    "\n",
    "if f0 == 0, % noise\n",
    "  x = 2*(rand (1, floor( d * fs )) - 0.5);\n",
    "else\n",
    "  x = createpulsetrain(fs,d,f0,jit,shim);\n",
    "endif\n",
    "\n",
    "endfunction"
   ]
  },
  {
   "cell_type": "code",
   "execution_count": 142,
   "metadata": {
    "kernel": "octave"
   },
   "outputs": [],
   "source": [
    "function X = slidingwindow(x, fs, wlength, overlap)\n",
    "\n",
    "if ( isrow(x) ), x = x'; endif;\n",
    "\n",
    "wl = round(wlength*fs); % window length\n",
    "ov = round(overlap*fs); % overlap\n",
    "nov = wl-ov; % no overlap\n",
    "nwin = floor( (length(x)-ov)/nov );\n",
    "maxlen = nwin*nov + ov;\n",
    "X = [];\n",
    "for i = 0 : nwin-1,\n",
    "  X(:,i+1) = x(i*nov+1:i*nov+wl);\n",
    "endfor;\n",
    "\n",
    "endfunction"
   ]
  },
  {
   "cell_type": "code",
   "execution_count": 153,
   "metadata": {
    "kernel": "octave"
   },
   "outputs": [],
   "source": [
    "function f0 = findf0(X,fs)\n",
    "%\n",
    "%  f0 = findf0(X,fs)\n",
    "%     encontra o valor da frequencia fundamental do sinal x\n",
    "%     f0 : frequencia fundamental\n",
    "%     X : sinal (or matriz with a signal in each column)\n",
    "%     fs : frequencia de amostragem do sinal\n",
    "%\n",
    "\n",
    "if (isrow(X)), X = X'; endif;\n",
    "\n",
    "f0 = [];\n",
    "for i = 1 : size(X,2),\n",
    "  f0(i) = 0;\n",
    "  % auto-correlacao de x\n",
    "  [R, lag] = xcorr(X(:,i),X(:,i),'coeff');\n",
    "\n",
    "  % considerar apenas metade do vetor de auto-correlacao\n",
    "  % vamos selecionar apenas as amostras da metade até o final\n",
    "  R = R(ceil(length(R)/2):end);\n",
    "  lag = lag(ceil(length(lag)/2):end);\n",
    "\n",
    "  % encontrar os picos de auto-correlacao\n",
    "  [pks,locs] = findpeaks(R);\n",
    "\n",
    "  % se encontrou mais do que um pico (pois sempre haverá um pico em zero)\n",
    "  if(length(pks) > 1),\n",
    "    % ordenar os picos encontrados\n",
    "    [Rsort,idxR] = sort(pks);\n",
    "    if Rsort(end-1) > 0.2, % vozeado\n",
    "       lagF0 = 1; dd = 1;\n",
    "       while( fs/lagF0 < 20 || fs/lagF0 > 250 ), % o valor do pitch deve ser entre 20 e 250 Hz\n",
    "          if dd == length(idxR), f0(i) = 0; break; endif % nao encontrou\n",
    "          % calcula a distancia (numero de amostras) entre o pico em zero e o proximo pico\n",
    "          lagF0 = locs(idxR(end-dd)) - locs(idxR(end));\n",
    "          % calcula o valor de f0 em Hz\n",
    "          f0(i) = fs/lagF0;\n",
    "          % incrementar o valor da variavel dd para pegar o proximo pico, caso\n",
    "          % o pico utilizado forneca um valor de f0 fora da faixa desejada\n",
    "          dd++;\n",
    "       endwhile\n",
    "    %else\n",
    "    %  f0(i) = 0; % nao vozeado\n",
    "    endif\n",
    "  endif\n",
    "endfor\n",
    "endfunction"
   ]
  },
  {
   "cell_type": "code",
   "execution_count": 146,
   "metadata": {
    "kernel": "octave"
   },
   "outputs": [],
   "source": [
    "function x = swin2signal(X, fs, overlap)\n",
    "ov = round(overlap*fs); % overlap\n",
    "wl = size(X,1);\n",
    "nov = wl-ov;\n",
    "nwin = size(X,2);\n",
    "x = zeros(nwin*nov+ov,1);\n",
    "x(1:wl) = tanh( X(:,1) );\n",
    "for i = 1 : nwin-1, % for each window\n",
    "  x(i*nov+1:(i+1)*nov+ov) += tanh( X(:,i+1) );\n",
    "  x(i*nov+1:i*nov+ov) /= 2;\n",
    "endfor\n",
    "endfunction"
   ]
  },
  {
   "cell_type": "code",
   "execution_count": 158,
   "metadata": {
    "kernel": "octave"
   },
   "outputs": [
    {
     "name": "stdout",
     "output_type": "stream",
     "text": [
      "play WARN alsa: can't encode 0-bit Unknown or not applicable\n",
      "\n",
      "synthesized-daisy.ogg:\n",
      "\n",
      " File Size: 745k      Bit Rate: 38.7k\n",
      "  Encoding: Vorbis        \n",
      "  Channels: 1 @ 16-bit   \n",
      "Samplerate: 9600Hz       \n",
      "Replaygain: off         \n",
      "  Duration: 00:02:34.09  \n",
      "\n",
      "In:100%  00:02:34.09 [00:00:00.00] Out:1.48M [      |      ]        Clip:0    \n",
      "Done.\n"
     ]
    }
   ],
   "source": [
    "filename = '/tmp/Daisy.wav';\n",
    "\n",
    "order = 12;\n",
    "[x, fs] = audioread (filename);\n",
    "x = resample(x,1,5);\n",
    "fs = fs/5;\n",
    "\n",
    "% Pre-emphasis\n",
    "pre = [1 -0.9];\n",
    "x = filter(pre,1,x);\n",
    "\n",
    "% window\n",
    "winlength = 15E-3; %15ms\n",
    "overlap = 7.5E-3;  %7.5ms\n",
    "X = slidingwindow (x, fs, winlength, overlap);\n",
    "hwindow = hamming(size(X,1));\n",
    "X .*= hwindow;\n",
    "[a g] = lpc(X, order);\n",
    "f0 = findf0(X,fs);\n",
    "f0 = round(f0);\n",
    "\n",
    "% synthesis\n",
    "Xs = [];\n",
    "for w = 1 : length(f0), % for each window\n",
    "  sig = createexcitation(fs,size(X,1)/fs,f0(w),0,0);\n",
    "  Xs(:,w) = sqrt(g(w))*filter(1,a(w,:),sig);\n",
    "endfor\n",
    "Xs .*= hwindow;\n",
    "speech = swin2signal(Xs, fs, overlap);\n",
    "speech ./= max(speech);\n",
    "\n",
    "% De-emphasis (must match pre-emphasis in lpcfit)\n",
    "pre = [1 -0.9];\n",
    "speech = filter (1, pre, speech);\n",
    "audiowrite ('synthesized-daisy.ogg', speech, fs);\n",
    "system ('play synthesized-daisy.ogg');"
   ]
  },
  {
   "cell_type": "code",
   "execution_count": null,
   "metadata": {
    "kernel": "octave"
   },
   "outputs": [],
   "source": []
  }
 ],
 "metadata": {
  "kernelspec": {
   "display_name": "SoS",
   "language": "sos",
   "name": "sos"
  },
  "sos": {
   "kernels": [
    [
     "Bash",
     "bash",
     "Bash",
     "#E6EEFF",
     "shell"
    ],
    [
     "octave",
     "octave",
     "octave",
     "",
     ""
    ]
   ],
   "panel": {
    "displayed": true,
    "height": 0
   },
   "version": "0.19.15"
  }
 },
 "nbformat": 4,
 "nbformat_minor": 2
}
