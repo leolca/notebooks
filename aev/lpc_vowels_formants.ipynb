{
 "cells": [
  {
   "cell_type": "markdown",
   "metadata": {
    "kernel": "SoS"
   },
   "source": [
    "# Gráfico das Vogais\n",
    "\n",
    "\n",
    "Vamos utilizar as amostras de vogais disponívies na página do Prof. Bruce Hayes:\n",
    "https://linguistics.ucla.edu/people/hayes/103/Charts/VChart/\n",
    "\n",
    "Para tanto, primeiramente iremos criar um script Bash para baixar todos os arquivos .wav referenciados neste sítio e salvá-los no diretório */tmp*."
   ]
  },
  {
   "cell_type": "code",
   "execution_count": 7,
   "metadata": {
    "kernel": "Bash"
   },
   "outputs": [],
   "source": [
    "URL=\"https://linguistics.ucla.edu/people/hayes/103/Charts/VChart/\"\n",
    "curl -s $URL | grep -E -o \"[A-Za-z]+\\.wav\" > listwavfiles\n",
    "cat listwavfiles | while read line\n",
    "do\n",
    "  wget $URL$line -q -O /tmp/$line\n",
    "done"
   ]
  },
  {
   "cell_type": "markdown",
   "metadata": {
    "kernel": "Bash"
   },
   "source": [
    "Agora utilizaremos o GNU Octave para obter os formantes das vogais contidas nos arquivos .wav previamente baixados. Para tanto utilizaremos a função *lpc*, que retornará os coeficientes de filtro. Basta então encontrar os ângulos dos pólos para obter as frequências dos formantes das vogais. Cada vogal será apresentada no gráfico de F2xF1."
   ]
  },
  {
   "cell_type": "code",
   "execution_count": 8,
   "metadata": {
    "kernel": "octave"
   },
   "outputs": [
    {
     "name": "stdout",
     "output_type": "stream",
     "text": [
      "foldername = /tmp/\n",
      "1\t/tmp/BackwardSchwa.wav\n",
      "2\t/tmp/BackwardScriptA.wav\n",
      "3\t/tmp/BackwardsEpsilon.wav\n",
      "4\t/tmp/BarredI.wav\n",
      "5\t/tmp/BarredO.wav\n",
      "6\t/tmp/BarredU.wav\n",
      "7\t/tmp/CapitalOE.wav\n",
      "8\t/tmp/CapitalU.wav\n",
      "9\t/tmp/CapitalY.wav\n",
      "10\t/tmp/Caret.wav\n",
      "11\t/tmp/CentralA.wav\n",
      "12\t/tmp/ClosedSidewaysEpsilon.wav\n",
      "13\t/tmp/Epsilon.wav\n",
      "15\t/tmp/LowerCaseOE.wav\n",
      "16\t/tmp/OpenO.wav\n",
      "17\t/tmp/RamsHorns.wav\n",
      "18\t/tmp/ScriptA.wav\n",
      "19\t/tmp/SlashO.wav\n",
      "20\t/tmp/SmallCapI.wav\n",
      "21\t/tmp/UpsideDownA.wav\n",
      "22\t/tmp/UpsideDownM.wav\n",
      "23\t/tmp/ae.wav\n",
      "24\t/tmp/e.wav\n",
      "25\t/tmp/i.wav\n",
      "26\t/tmp/o.wav\n",
      "27\t/tmp/u.wav\n",
      "28\t/tmp/y.wav\n"
     ]
    },
    {
     "data": {
      "image/png": "[encoded data removed]",
      "text/plain": [
       "<IPython.core.display.Image object>"
      ]
     },
     "metadata": {},
     "output_type": "display_data"
    }
   ],
   "source": [
    "pkg load signal\n",
    "\n",
    "foldername = '/tmp/'\n",
    "listfiles = dir(cstrcat(foldername,'*.wav'));\n",
    "\n",
    "F = []; figure; hold on;\n",
    "for i=1:length(listfiles),\n",
    "  if listfiles(i).bytes > 0,\n",
    "    filename=cstrcat(listfiles(i).folder, '/', listfiles(i).name);\n",
    "    printf('%d\\t%s\\n',i,filename);\n",
    "    [x,fs]=audioread(filename);\n",
    "    [a,g] = lpc(x,8);\n",
    "    f = round (sort (unique (abs (angle (roots (a))))) * fs / (2 * pi) );\n",
    "    if f(1)==0, f=f(2:end); endif;\n",
    "    F(i,:) = f(1:3)';\n",
    "    plot(f(2),f(1),'kx');\n",
    "    text(f(2)-50,f(1),num2str(i));\n",
    "  endif\n",
    "endfor;\n",
    "xlabel('F2 (Hz)'); ylabel('F1 (Hz)');\n",
    "set (gca (), \"xdir\", \"reverse\")\n",
    "set (gca (), \"ydir\", \"reverse\")"
   ]
  },
  {
   "cell_type": "code",
   "execution_count": null,
   "metadata": {
    "kernel": "octave"
   },
   "outputs": [],
   "source": []
  }
 ],
 "metadata": {
  "kernelspec": {
   "display_name": "SoS",
   "language": "sos",
   "name": "sos"
  },
  "language_info": {
   "codemirror_mode": "sos",
   "file_extension": ".sos",
   "mimetype": "text/x-sos",
   "name": "sos",
   "nbconvert_exporter": "sos_notebook.converter.SoS_Exporter",
   "pygments_lexer": "sos"
  },
  "sos": {
   "kernels": [
    [
     "Bash",
     "bash",
     "Bash",
     "#E6EEFF",
     "shell"
    ],
    [
     "octave",
     "octave",
     "octave",
     "",
     ""
    ]
   ],
   "panel": {
    "displayed": true,
    "height": 0
   },
   "version": "0.19.15"
  }
 },
 "nbformat": 4,
 "nbformat_minor": 2
}
