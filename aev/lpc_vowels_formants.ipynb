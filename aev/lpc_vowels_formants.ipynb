{
 "cells": [
  {
   "cell_type": "markdown",
   "metadata": {
    "kernel": "SoS"
   },
   "source": [
    "# Vogais\n",
    "\n",
    "Os sons silábicos da fala produzidos sem nenhuma constrição no trato vocal são as vogais. No português brasileiro temos 7 vogais i, ê, é, a, ó, ô, u (sendo a transcrição fonética [i,e,ɛ,a,ɔ,o,u]). Dizemos que as vogais distintas em uma língua possuem qualidades diferentes, ou seja, o que difere duas vogais pronunciadas na mesma altura (*pitch*), intensidade e duração é a qualidade da vogal. Sabemos que um dos fatores importantes para determinar a qualidade das vogais são seus formantes (frequências de ressonância do trato vocal). A figura abaixo ilustra o espectrograma de três vogais, onde podemos visualizar os formantes como as áreas de maior energia (tons de cinza escuro ou preto na figura).\n",
    "\n",
    "![spectrogram iua](imgs/spectrogram_iua.png)\n",
    "https://en.wikipedia.org/wiki/Formant\n",
    "\n",
    "Para sintetizar vogais de diferentes qualidades, devemos conhecer a estrutura de formantes de cada uma das vogais de uma língua. Um dos pioneiros foi o sintetizado Klatt, cujos princípios são descritos em seu artigo de 1980. Para sintetizarmo algumas vogais, reproduziremos abaixo a Tabela II deste trabalho, contendo as frequências dos formantes e largura de banda.\n",
    "\n",
    "Dennis H. Klatt, *Software for a cascade/parallel formant synthesizer*, The Journal of the Acoustical Society of America 67, 971 (1980)\n",
    "https://doi.org/10.1121/1.383940\n",
    "\n",
    "\n",
    "![table 2 klatt](imgs/klatt_table2.png)\n",
    "\n",
    "Iremos utilizar os dados da Tabela II para sintetizar vogais, conforme veremos abaixo.\n",
    "\n",
    "A frequência de ressonância (F, formante) nos fornece o ângulo do pólo e a largura de banda (BW) o raio do pólo:\n",
    "\n",
    "$BW = - \\frac{\\ln R}{\\pi T}$\n",
    "\n",
    "$R = e^{-\\pi BW T}$"
   ]
  },
  {
   "cell_type": "code",
   "execution_count": 2,
   "metadata": {
    "kernel": "octave"
   },
   "outputs": [
    {
     "name": "stdout",
     "output_type": "stream",
     "text": [
      "ALSA lib pcm.c:8424:(snd_pcm_recover) underrun occurred\n",
      "[i]\n",
      "[a]\n",
      "[u]\n"
     ]
    }
   ],
   "source": [
    "pkg load signal\n",
    "\n",
    "% Let's make the vowesl [i], [a] and [u] \n",
    "% Ref: Dennis H. Klatt, \"Software for a cascade/parallel formant synthesizer,\" JASA, vol. 67, pp. 13-33, 1980.\n",
    "\n",
    "vowels = {'[i]','[a]','[u]'};\n",
    "\n",
    "% Formant frequencies in Hz\n",
    "F = [   310, 2020, 2960;        % [i]\n",
    "        700, 1220, 2600;        % [a]\n",
    "        350, 1250, 2200];       % [u] \n",
    "% Formant bandwidth in Hz\n",
    "BW = [   45, 200, 400;          % [i]\n",
    "        130,  70, 160;          % [a]\n",
    "         65, 110, 140];         % [u]\n",
    "\n",
    "fs = 8192;  % Sampling rate in Hz (\"telephone quality\" for speed)\n",
    "f0 = 200; % Pitch in Hz\n",
    "w0T = 2*pi*f0/fs;\n",
    "T = 2; % seconds (duration)\n",
    "nsamps = fs*T;\n",
    "nharm = floor((fs/2)/f0); % number of harmonics\n",
    "sig = zeros(nsamps,1);\n",
    "n = [0:(nsamps-1)]';\n",
    "% Synthesize bandlimited impulse train\n",
    "for i=1:nharm,\n",
    "    sig = sig + cos(i*w0T*n);\n",
    "end;\n",
    "sig = sig/max(sig);\n",
    "soundsc(sig,fs); % Let's hear it\n",
    "pause(0.5);\n",
    "\n",
    "for i = 1:length(vowels),\n",
    "  disp(vowels{i});\n",
    "  R = exp(-pi*BW(i)/fs);     % Pole radii\n",
    "  theta = 2*pi*F(i)/fs;      % Pole angles\n",
    "  poles = R .* exp(j*theta); % Poles\n",
    "  [B,A] = zp2tf(0,[poles,conj(poles)],1); % control/\n",
    "  speech = filter(1,A,sig); % impulse-train \n",
    "  w = hamming(nsamps);\n",
    "  winspeech = w .* speech(1:length(w));\n",
    "  soundsc(winspeech,fs);\n",
    "  pause(0.5);\n",
    "endfor;"
   ]
  },
  {
   "cell_type": "markdown",
   "metadata": {
    "kernel": "SoS"
   },
   "source": [
    "# Gráfico das Vogais\n",
    "\n",
    "\n",
    "Vamos utilizar as amostras de vogais disponívies na página do Prof. Bruce Hayes:\n",
    "https://linguistics.ucla.edu/people/hayes/103/Charts/VChart/\n",
    "\n",
    "Para tanto, primeiramente iremos criar um script Bash para baixar todos os arquivos .wav referenciados neste sítio e salvá-los no diretório */tmp*."
   ]
  },
  {
   "cell_type": "code",
   "execution_count": 7,
   "metadata": {
    "kernel": "Bash"
   },
   "outputs": [],
   "source": [
    "URL=\"https://linguistics.ucla.edu/people/hayes/103/Charts/VChart/\"\n",
    "curl -s $URL | grep -E -o \"[A-Za-z]+\\.wav\" > listwavfiles\n",
    "cat listwavfiles | while read line\n",
    "do\n",
    "  wget $URL$line -q -O /tmp/$line\n",
    "done"
   ]
  },
  {
   "cell_type": "markdown",
   "metadata": {
    "kernel": "Bash"
   },
   "source": [
    "Vamos inicialmente analisar uma das vogais, a vogal [æ], salva no arquivo *ae.wav*. Iremos usar o LPC para obter o filtro. Analisando os pólos podemos determinar as frequências de ressonância (formantes). Por fim, iremos obter o resíduo e utilizar o resíduo, conjuntamente com o filtro LPC, para sintetizar novamente o sinal."
   ]
  },
  {
   "cell_type": "code",
   "execution_count": 9,
   "metadata": {
    "kernel": "octave"
   },
   "outputs": [
    {
     "name": "stdout",
     "output_type": "stream",
     "text": [
      "F =\n",
      "\n",
      "   0.10677   0.24456   0.44075   0.81557\n",
      "\n",
      "F =\n",
      "\n",
      "    854   1957   3526   6525\n",
      "\n"
     ]
    },
    {
     "data": {
      "image/png": "[encoded data removed]",
      "text/plain": [
       "<IPython.core.display.Image object>"
      ]
     },
     "metadata": {},
     "output_type": "display_data"
    }
   ],
   "source": [
    "pkg load signal\n",
    "[x, fs] = audioread ('/tmp/ae.wav');\n",
    "% Pre-emphasis\n",
    "pre = [1 -0.9];\n",
    "x = filter(pre,1,x);\n",
    "order = 8;\n",
    "[a, g] = lpc(x, order);\n",
    "freqz(1,a);\n",
    "% formants\n",
    "F = sort (unique (abs (angle (roots (a)))/pi))' \n",
    "F = round (sort (unique (abs (angle (roots (a))))) * fs / (2 * pi) )' % Hz\n",
    "% residue\n",
    "est_x = filter([0 -a(2:end)],1,x);\n",
    "e = x-est_x;\n",
    "% synthesize using residue\n",
    "xs = filter(1,a,e);\n",
    "soundsc(xs,fs);"
   ]
  },
  {
   "cell_type": "markdown",
   "metadata": {
    "kernel": "Bash"
   },
   "source": [
    "Agora utilizaremos o GNU Octave para obter os formantes das vogais contidas nos arquivos .wav previamente baixados. Para tanto utilizaremos a função *lpc*, que retornará os coeficientes de filtro. Basta então encontrar os ângulos dos pólos para obter as frequências dos formantes das vogais. Cada vogal será apresentada no gráfico de F2xF1."
   ]
  },
  {
   "cell_type": "code",
   "execution_count": 8,
   "metadata": {
    "kernel": "octave"
   },
   "outputs": [
    {
     "name": "stdout",
     "output_type": "stream",
     "text": [
      "foldername = /tmp/\n",
      "1\t/tmp/BackwardSchwa.wav\n",
      "2\t/tmp/BackwardScriptA.wav\n",
      "3\t/tmp/BackwardsEpsilon.wav\n",
      "4\t/tmp/BarredI.wav\n",
      "5\t/tmp/BarredO.wav\n",
      "6\t/tmp/BarredU.wav\n",
      "7\t/tmp/CapitalOE.wav\n",
      "8\t/tmp/CapitalU.wav\n",
      "9\t/tmp/CapitalY.wav\n",
      "10\t/tmp/Caret.wav\n",
      "11\t/tmp/CentralA.wav\n",
      "12\t/tmp/ClosedSidewaysEpsilon.wav\n",
      "13\t/tmp/Epsilon.wav\n",
      "15\t/tmp/LowerCaseOE.wav\n",
      "16\t/tmp/OpenO.wav\n",
      "17\t/tmp/RamsHorns.wav\n",
      "18\t/tmp/ScriptA.wav\n",
      "19\t/tmp/SlashO.wav\n",
      "20\t/tmp/SmallCapI.wav\n",
      "21\t/tmp/UpsideDownA.wav\n",
      "22\t/tmp/UpsideDownM.wav\n",
      "23\t/tmp/ae.wav\n",
      "24\t/tmp/e.wav\n",
      "25\t/tmp/i.wav\n",
      "26\t/tmp/o.wav\n",
      "27\t/tmp/u.wav\n",
      "28\t/tmp/y.wav\n"
     ]
    },
    {
     "data": {
      "image/png": "[encoded data removed]",
      "text/plain": [
       "<IPython.core.display.Image object>"
      ]
     },
     "metadata": {},
     "output_type": "display_data"
    }
   ],
   "source": [
    "pkg load signal\n",
    "\n",
    "foldername = '/tmp/'\n",
    "listfiles = dir(cstrcat(foldername,'*.wav'));\n",
    "\n",
    "F = []; figure; hold on;\n",
    "for i=1:length(listfiles),\n",
    "  if listfiles(i).bytes > 0,\n",
    "    filename=cstrcat(listfiles(i).folder, '/', listfiles(i).name);\n",
    "    printf('%d\\t%s\\n',i,filename);\n",
    "    [x,fs]=audioread(filename);\n",
    "    [a,g] = lpc(x,8);\n",
    "    f = round (sort (unique (abs (angle (roots (a))))) * fs / (2 * pi) );\n",
    "    if f(1)==0, f=f(2:end); endif;\n",
    "    F(i,:) = f(1:3)';\n",
    "    plot(f(2),f(1),'kx');\n",
    "    text(f(2)-50,f(1),num2str(i));\n",
    "  endif\n",
    "endfor;\n",
    "xlabel('F2 (Hz)'); ylabel('F1 (Hz)');\n",
    "set (gca (), \"xdir\", \"reverse\")\n",
    "set (gca (), \"ydir\", \"reverse\")"
   ]
  },
  {
   "cell_type": "code",
   "execution_count": null,
   "metadata": {
    "kernel": "octave"
   },
   "outputs": [],
   "source": []
  }
 ],
 "metadata": {
  "kernelspec": {
   "display_name": "SoS",
   "language": "sos",
   "name": "sos"
  },
  "language_info": {
   "codemirror_mode": "sos",
   "file_extension": ".sos",
   "mimetype": "text/x-sos",
   "name": "sos",
   "nbconvert_exporter": "sos_notebook.converter.SoS_Exporter",
   "pygments_lexer": "sos"
  },
  "sos": {
   "kernels": [
    [
     "Bash",
     "bash",
     "Bash",
     "#E6EEFF",
     "shell"
    ],
    [
     "octave",
     "octave",
     "octave",
     "",
     ""
    ]
   ],
   "panel": {
    "displayed": true,
    "height": 0
   },
   "version": "0.19.15"
  }
 },
 "nbformat": 4,
 "nbformat_minor": 2
}
