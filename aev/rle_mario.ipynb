{
 "cells": [
  {
   "cell_type": "markdown",
   "metadata": {},
   "source": [
    "# RLE (run-length encodin)\n",
    "\n",
    "A codificação RLE é eficaz quando nossos dados consistem em longas sequências de repetição de valores repetidos. É o caso do exemplo que veremos aqui: uma imagem de computador, no caso uma tela do jogo Mário Bros.\n",
    "\n",
    "![mario bros](imgs/Mario_Bros.png)\n",
    "\n",
    "Leia mais sobre RLE em :\n",
    "- https://en.wikipedia.org/wiki/Run-length_encoding \n",
    "- Salomon and Motta, *Handbook of Data Compression*, Springer\n",
    "- https://www.fileformat.info/mirror/egff/ch09_03.htm\n",
    "\n",
    "Para simplificar o problema iremos tratar de imagem em tons de cinza, mas o mesmo princípio se aplica para imagens coloridas, ou outros tipos de dados. \n",
    "\n",
    "Vamos obter a imagem do site da Wikimedia, convertê-la para uma imagem em tons de cinza e salvá-la no formato PNM (Portable Anymap Utilities) ASCII (P2) e binário (P5).\n",
    "\n",
    "Leia mais sobre os formatos PBM, PGM, PNM, e PPM no seguinte síto:\n",
    "https://www.fileformat.info/format/pbm/egff.htm\n",
    "\n",
    "Após salvar as imagens, abra os arquivos em um bloco de notas para verificar seu conteúdo."
   ]
  },
  {
   "cell_type": "code",
   "execution_count": 1,
   "metadata": {},
   "outputs": [],
   "source": [
    "system('wget -q https://upload.wikimedia.org/wikipedia/en/5/50/NES_Super_Mario_Bros.png -O /tmp/Mario_Bros.png');\n",
    "system('convert /tmp/Mario_Bros.png -grayscale rec709luma -set colorspace Gray -compress none /tmp/Mario_Bros_ascii.pnm');\n",
    "system('convert /tmp/Mario_Bros.png -grayscale rec709luma -set colorspace Gray /tmp/Mario_Bros_raw.pnm');"
   ]
  },
  {
   "cell_type": "markdown",
   "metadata": {},
   "source": [
    "Vamos propor aqui o nosso próprio formato, uma variação do PNM com codificação RLE. Utilizaremos para tanto as funções *rleenco* e *rledeco* do pacote *communications*. Iremos varrer a imagem coluna por coluna, convertendo em um vetor unidimensional. Aplicaremos o codificação RLE a esta imagem unidimensional. Iremos salvar em um arquivo .prm com cabeçalho semelhante ao cabeçalho do PNM, a única diferença é a primeira linha que indica como os valores foram salvos: ASCII (R3) ou binário (R6).\n",
    "\n",
    "Criaremos então duas funções: *image2prm* (converter imagem em um arquivo .prm) e *prm2image* (ler o arquivo .prm e retornar uma imagem)."
   ]
  },
  {
   "cell_type": "code",
   "execution_count": 2,
   "metadata": {},
   "outputs": [],
   "source": [
    "function image2prm (X, magval, outname)\n",
    "  if !strcmp(magval,'R3') && !strcmp(magval,'R6'), error('MagicValue must be R3 (ASCII) or R6 (Binary).'); endif\n",
    "  sX = size(X);\n",
    "  x = rleenco (X(:));\n",
    "  maxVal = max(X(:));\n",
    "  fid = fopen(outname, 'w');\n",
    "  fprintf(fid,'%s\\n',magval); % magic value\n",
    "  fprintf(fid,'# created by LEo\\n'); % comment\n",
    "  fprintf(fid,'%d %d\\n',sX); % dimensions\n",
    "  fprintf(fid,'%d\\n',maxVal);\n",
    "  if strcmp(magval,'R3'), % ASCII\n",
    "    fprintf(fid,'%d ',x(:));\n",
    "  else, % Binary\n",
    "            id = find (x > 255);\n",
    "  for i = length(id):-1:1,\n",
    "    do,\n",
    "      x(id(i))-=255;\n",
    "      x = [x(1:id(i)+1), 255, x(id(i)+1), x(id(i)+2:end)];\n",
    "      until x(id(i)) <= 255;\n",
    "   endfor\n",
    "   fwrite(fid,x,'uint8');\n",
    "  endif\n",
    "  fclose(fid);\n",
    "endfunction"
   ]
  },
  {
   "cell_type": "markdown",
   "metadata": {},
   "source": [
    "Os valores de pixel estão no intervalo [0,255], podendo ser representados por um byte (uint8). Entretanto, o número de repetição dos pixels poderá eventualmente ser maior do que 255. Nesse caso, iremos quebrar a repetição. Por exemplo, se encontrarmos 300 repetições do valor 64, iremos converter em 255 repetições de 64 seguida de 45 repetições de 64. Desta forma poderemos salvar os números de repetições utilizando um único byte, assim como fazemos para os valores de pixel."
   ]
  },
  {
   "cell_type": "code",
   "execution_count": 3,
   "metadata": {},
   "outputs": [],
   "source": [
    "function X = prm2image (filename)\n",
    "  fid = fopen (filename, 'r');\n",
    "  magval = fgetl (fid);\n",
    "  if !strcmp(magval,'R3') && !strcmp(magval,'R6'), error('Unknown format.'); endif\n",
    "  do,\n",
    "    line = fgetl (fid);\n",
    "  until !strcmp(line(1),'#'),\n",
    "  sX = str2num(line);\n",
    "  maxVal = str2num( fgetl (fid) );\n",
    "  if strcmp(magval,'R3'), % ASCII\n",
    "    x = fscanf(fid, '%d');\n",
    "  else, % Binary\n",
    "    x = fread (fid, Inf, 'uint8');\n",
    "  endif\n",
    "  X = rledeco (x);\n",
    "  X = reshape(X, sX);\n",
    "  X = uint8(X);\n",
    "  fclose (fid);\n",
    "endfunction"
   ]
  },
  {
   "cell_type": "markdown",
   "metadata": {},
   "source": [
    "Vamos agora verificar a funcionalida destas funções e compara os tamanhos dos aquivos gerados com aqueles codificados em PNM."
   ]
  },
  {
   "cell_type": "code",
   "execution_count": 4,
   "metadata": {},
   "outputs": [
    {
     "data": {
      "image/png": "[encoded data removed]",
      "text/plain": [
       "<IPython.core.display.Image object>"
      ]
     },
     "metadata": {},
     "output_type": "display_data"
    }
   ],
   "source": [
    "pkg load communications\n",
    "% R3 (ASCII), R6 (Binary)\n",
    "X = imread ('/tmp/Mario_Bros_raw.pnm');\n",
    "s = dir('/tmp/Mario_Bros_raw.pnm');\n",
    "Xrawsize = s.bytes;\n",
    "s = dir('/tmp/Mario_Bros_ascii.pnm');\n",
    "Xasciisize = s.bytes;\n",
    "image2prm (X, 'R3', '/tmp/Mario_Bros_raw.prm');\n",
    "image2prm (X, 'R6', '/tmp/Mario_Bros_ascii.prm');\n",
    "Y1 = prm2image('/tmp/Mario_Bros_raw.prm');\n",
    "s = dir('/tmp/Mario_Bros_raw.prm');\n",
    "Y1size = s.bytes;\n",
    "Y2 = prm2image('/tmp/Mario_Bros_ascii.prm');\n",
    "s = dir('/tmp/Mario_Bros_ascii.prm');\n",
    "Y2size = s.bytes;\n",
    "figure(\"position\",get(0,\"screensize\")./[1 1 1.5 3])\n",
    "subplot(1,3,1); imshow (X); title (sprintf('original\\n%d bytes (raw), %d bytes (ASCII)',Xrawsize,Xasciisize));\n",
    "subplot(1,3,2); imshow (Y1); title (sprintf('R3 (RLE, ASCII)\\n%d bytes',Y1size));\n",
    "subplot(1,3,3); imshow (Y2); title (sprintf('R6 (RLE, Binary)\\n%d bytes',Y2size));"
   ]
  },
  {
   "cell_type": "code",
   "execution_count": null,
   "metadata": {},
   "outputs": [],
   "source": []
  }
 ],
 "metadata": {
  "kernelspec": {
   "display_name": "Octave",
   "language": "octave",
   "name": "octave"
  },
  "language_info": {
   "file_extension": ".m",
   "help_links": [
    {
     "text": "GNU Octave",
     "url": "https://www.gnu.org/software/octave/support.html"
    },
    {
     "text": "Octave Kernel",
     "url": "https://github.com/Calysto/octave_kernel"
    },
    {
     "text": "MetaKernel Magics",
     "url": "https://github.com/calysto/metakernel/blob/master/metakernel/magics/README.md"
    }
   ],
   "mimetype": "text/x-octave",
   "name": "octave",
   "version": "4.4.1"
  }
 },
 "nbformat": 4,
 "nbformat_minor": 2
}
