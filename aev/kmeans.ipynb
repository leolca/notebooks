{
 "cells": [
  {
   "cell_type": "markdown",
   "metadata": {},
   "source": [
    "# Algorirmo das k-médias\n",
    "\n",
    "O algoritmo das k-médias é um método de clusterização que objetiva encontrar os $k$ centróides de um conjunto de observações. Este método é muito utilizado nas áreas ligadas a inteligência artificial, aprendizado de máquinas, quantização vetorial, etc. O mais usual é a formulação de Lloyd que será apresentada a seguir.\n",
    "\n",
    "Na processo de clusterização do k-médias, \"cada *cluster* é representado por um único ponto, ao qual associam-se todos os pontos contidos neste *cluster*. Os pontos pertencentes a um de terminado *cluster* estão mais próximos (segundo uma determinada métrica) ao ponto de representação associado ao seu *cluster* do que a qualquer outro ponto de representação. O problema de *clusterização* do $k$-médias resume-se no problema de se encontrar o conjunto $\\mathcal{C} = \\{\\hat{x}_1, \\ldots, \\hat{x}_k\\}$ de $k$ pontos de representação para os $k$ *clusters* que irão se formar.\n",
    "\n",
    "Lloyd (1982) propôs um método iterativo, chamado de 'método I', para o projeto de um quantizador escalar. Este método foi estendido por Linde et al. (1980) para o caso vetorial. O algoritmo para o caso de dados com uma distribuição de probabilidade desconhecida é dado a seguir:\n",
    "\n",
    "1. Seja $M$ o número de pontos de representação e $\\epsilon \\geq 0$, um limiar de distorção. Considere um conjunto de representação inicial $\\mathcal{C}^{(0)} = \\{\\hat{x}_1^{(0)} , \\ldots, \\hat{x}_M^{(0)}\\}$, um conjunto de treinamento $\\mathcal{T} = \\{x_1, \\ldots, x_N\\}$ e $m=0$, o número inicial de iterações.\n",
    "2. Dado $\\mathcal{C}^{(m)}$ encontre a partição mínima $P(\\mathcal{C}^{(m)}) = \\{S_i^{(m)}: i=1,\\ldots,M\\}$\n",
    "das sequências de treinamento: $x_j \\in S_i^{(m)}$ se $d(x_j, \\hat{x}_i^{(m)}) \\leq d(x_j, \\hat{x}_l^{(m)})$, para\n",
    "todo $l \\neq i$. Calcule, então, a distorção média definida por:\n",
    "\n",
    "$ D^{(m)} = D[(\\mathcal{C}^{(m)}, P(\\mathcal{C}^{(m)}))] \\\\\n",
    "  D^{(m)} = \\frac{1}{N} \\sum_{j=1}^{N} \\min_{\\hat{x} \\in \\mathcal{C}^{(m)}} d(x_j, \\hat{x}) .$\n",
    "  \n",
    "3. Se $(D^{(m-1)} - D^{(m)}) / D^{(m)} \\leq \\epsilon$, interrompe a iteração e considera-se $\\mathcal{C}^{(m)}$ como o alfabeto final de representação (*codebook*); caso contrário, continue.\n",
    "\n",
    "4. Encontre o alfabeto ótimo de representação para $P(\\mathcal{C}^{(m)})$, $\\hat{x}(P(\\mathcal{C}^{(m)})) = \\{\\hat{x}(S_i): i = 1,\\ldots, M\\}$ para $P(\\mathcal{C}^{(m)})$, onde $\\hat{x}(S_i) = \\frac{1}{|| S_i ||} \\sum_{x \\in S_i} x $.\n",
    "5. Faça $\\mathcal{C}^{(m+1)} = \\hat{x}(P(\\mathcal{C}^{(m)}))$, incremente $m$ e volte ao passo 2.\n",
    "\n",
    "O algoritmo descrito acima utiliza um determinado $\\mathcal{C}^{(0)}$ como *codebook* (conjunto de centróides) inicial para o processo de otimização. Existem diversas maneiras de escolher um alfabeto inicial, a mais simples delas consiste em escolher pontos de representação espaçados e coincidentes com os dados de treinamento, ou seja, os dados utilizados para se estabelecer o *codebook*.\n",
    "\n",
    "O problema das $k$ médias é um problema NP-difícil, desta forma, qualquer algoritmo utilizável levará a uma solução ótima local para o problema. Métodos iterativos, como o de Lloyds, garantem melhorias sucessivas na solução a partir de um ponto inicial. Como a função de minimização, em geral, não é convexa, cada mínimo local terá uma região de atração para si. Os parâmetros de inicialização podem levar a diferentes soluções, algumas melhores que as demais.\"\n",
    "\n",
    "(Araujo, Sansao, Fasolo, *Quantização Vetorial de Cores em Imagens Digitais*, SBRT 2018)\n",
    "\n",
    "\n",
    "https://en.wikipedia.org/wiki/K-means_clustering\n",
    "\n",
    "\n",
    "O GNU Octave possui a função *kmeans*. Nesta primeira demonstração não iremos utilizar tal função."
   ]
  },
  {
   "cell_type": "markdown",
   "metadata": {},
   "source": [
    "### demonstração\n",
    "\n",
    "Vamos gerar 4 conjuntos com 50 pontos distribuídos aleatoriamente em cada um, cada um com um determinado ponto central e variância."
   ]
  },
  {
   "cell_type": "code",
   "execution_count": 6,
   "metadata": {},
   "outputs": [],
   "source": [
    "function P = gerapontos(N,m,d), P = []; P(1,:) = d*randn(1,N) + m(1); P(2,:) = d*randn(1,N) + m(2); endfunction"
   ]
  },
  {
   "cell_type": "code",
   "execution_count": 8,
   "metadata": {},
   "outputs": [
    {
     "data": {
      "image/png": "[encoded data removed]",
      "text/plain": [
       "<IPython.core.display.Image object>"
      ]
     },
     "metadata": {},
     "output_type": "display_data"
    }
   ],
   "source": [
    "N = 50;\n",
    "P = [];\n",
    "P = [P gerapontos(50,[0 0],1.5)];\n",
    "P = [P gerapontos(50,[6 6],1)];\n",
    "P = [P gerapontos(50,[0 6],1.2)];\n",
    "P = [P gerapontos(50,[6 0],1)];\n",
    "plot(P(1,:),P(2,:),'kx','markersize',5);"
   ]
  },
  {
   "cell_type": "markdown",
   "metadata": {},
   "source": [
    "Sabemos que existem 4 grupos, por isso iremos definir $k=4$. Iremos definer também 4 estilos de marcador para associar a cada um dos grupos. Inicialmente não sabemos a qual grupo cada um dos pontos pertencem, por isso todos estão marcados com 'x' preto."
   ]
  },
  {
   "cell_type": "code",
   "execution_count": 14,
   "metadata": {},
   "outputs": [],
   "source": [
    "k = 4;\n",
    "colors = [1 0 0; 0 1 0; 0 0 1; 1 1 0];\n",
    "[m,n] = size(P); % m (dimentionality), n (number of samples)"
   ]
  },
  {
   "cell_type": "markdown",
   "metadata": {},
   "source": [
    "Vamos definir aleatóriamente $k$ centróides (*codebook* inicial). Uma boa estratégia é supor que esses $k$ centroídese sejam coincidentes com $k$ pontos escolhidos aleatoriamente dentre os pontos da base de dados."
   ]
  },
  {
   "cell_type": "code",
   "execution_count": 11,
   "metadata": {},
   "outputs": [],
   "source": [
    "center = P(:,randperm(n,k));"
   ]
  },
  {
   "cell_type": "markdown",
   "metadata": {},
   "source": [
    "Para fazer a associação entre pontos e centróides, devemos utilizar alguma métrica. Iremos utilizar nesta demostração a distância euclideana. Dependendo do problema, outras métricas poderão ser mais apropriadas."
   ]
  },
  {
   "cell_type": "code",
   "execution_count": 12,
   "metadata": {},
   "outputs": [],
   "source": [
    "function d = distance(p1,p2), \n",
    "  d=[]; \n",
    "  for i=1:size(p1,2), for j=1:size(p2,2), \n",
    "    d(i,j)=sqrt(sum((p1(:,i)-p2(:,j)).^2)); \n",
    "  endfor; endfor; \n",
    "endfunction"
   ]
  },
  {
   "cell_type": "markdown",
   "metadata": {},
   "source": [
    "Devemos definir um número máximo de iterações para garantir que o algoritmo finalizará. Neste exemplo, para ilustração, iremos realizar apenas 3 iterações."
   ]
  },
  {
   "cell_type": "code",
   "execution_count": 13,
   "metadata": {},
   "outputs": [],
   "source": [
    "cMAX = 3;"
   ]
  },
  {
   "cell_type": "code",
   "execution_count": 15,
   "metadata": {},
   "outputs": [
    {
     "data": {
      "image/png": "[encoded data removed]",
      "text/plain": [
       "<IPython.core.display.Image object>"
      ]
     },
     "metadata": {},
     "output_type": "display_data"
    }
   ],
   "source": [
    "figure('Position',[0 0 1200 300]);\n",
    "subplot(1,cMAX+1,1);\n",
    "scatter(P(1,:),P(2,:),50,[0.5 0.5 0.5],'x');\n",
    "ax = axis; title('dados');\n",
    "\n",
    "dist_c = 1000; count = 0;\n",
    "while dist_c > 0.001 && count < cMAX,\n",
    "  count = count + 1;\n",
    "  subplot(1,cMAX+1,count+1);\n",
    "  scatter(P(1,:),P(2,:),50,[0.5 0.5 0.5],'x'); hold on;\n",
    "  scatter(center(1,:),center(2,:),70,colors,'d','filled');\n",
    "  title(cstrcat('iteracao ',num2str(count)));\n",
    "\n",
    "  [vx, vy] = voronoi(center(1,:), center(2,:));\n",
    "  plot (vx, vy, '-', 'linewidth',5, 'color', [0.7 0.7 0.7]);\n",
    "\n",
    "  % calculate distances\n",
    "  d = distance(P,center);\n",
    "\n",
    "  % create labels\n",
    "  label = [];\n",
    "  for j=1:n,\n",
    "      [mini, idx] = min(d(j,:));\n",
    "      label(j) = idx;\n",
    "  end;\n",
    "\n",
    "  %calculate new centers\n",
    "  dist_c = 0;\n",
    "  center_new = [];\n",
    "  [label2, ii] = sort(label);\n",
    "  for i = 1 : k,\n",
    "     temp = [];\n",
    "     for j = 1 : n,\n",
    "        if label2(j) == i,\n",
    "           temp = [label2(j) ii(j); temp];\n",
    "        endif;\n",
    "     endfor;\n",
    "     center_new(:,i) = mean(P(:,temp(:,2)),2);\n",
    "  endfor;\n",
    "\n",
    "  % distancia dos centroides novos para os velhos\n",
    "  Dc = distance(center,center_new);\n",
    "  % distancia apenas entre os centroides equivalentes\n",
    "  dc = []; for i = 1 : size(Dc,1),  dc(i) = Dc(i,i);  end;\n",
    "  % achar a maior distancia\n",
    "  dist_c = max(dc);\n",
    "\n",
    "  % atualiza os centroides\n",
    "  for i = 1 : k,\n",
    "    line([center(1,i) center_new(1,i)],[center(2,i) center_new(2,i)],'linewidth',3,'color',[0.2 0.2 0.2]);\n",
    "  end;\n",
    "\n",
    "  scatter(center_new(1,:),center_new(2,:),90,colors,'d','filled');\n",
    "  axis(ax);\n",
    "  center = center_new;\n",
    "end;"
   ]
  },
  {
   "cell_type": "markdown",
   "metadata": {},
   "source": [
    "Veja as notas sobre quantização onde há um exemplo de utilização do método das k-médias para definição de uma palheta de cores para realizar a quantização vetorial das cores de uma imagem."
   ]
  },
  {
   "cell_type": "code",
   "execution_count": null,
   "metadata": {},
   "outputs": [],
   "source": []
  }
 ],
 "metadata": {
  "kernelspec": {
   "display_name": "Octave",
   "language": "octave",
   "name": "octave"
  },
  "language_info": {
   "file_extension": ".m",
   "help_links": [
    {
     "text": "GNU Octave",
     "url": "https://www.gnu.org/software/octave/support.html"
    },
    {
     "text": "Octave Kernel",
     "url": "https://github.com/Calysto/octave_kernel"
    },
    {
     "text": "MetaKernel Magics",
     "url": "https://github.com/calysto/metakernel/blob/master/metakernel/magics/README.md"
    }
   ],
   "mimetype": "text/x-octave",
   "name": "octave",
   "version": "4.4.1"
  }
 },
 "nbformat": 4,
 "nbformat_minor": 2
}
